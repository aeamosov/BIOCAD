{
 "cells": [
  {
   "cell_type": "code",
   "execution_count": 2,
   "metadata": {},
   "outputs": [
    {
     "data": {
      "text/html": [
       "<style>.container { width:80% !important; }</style>"
      ],
      "text/plain": [
       "<IPython.core.display.HTML object>"
      ]
     },
     "metadata": {},
     "output_type": "display_data"
    }
   ],
   "source": [
    "#Импорт библиотек\n",
    "import requests\n",
    "import urllib3\n",
    "urllib3.disable_warnings()\n",
    "from datetime import date\n",
    "from py2neo import Graph\n",
    "import pandas as pd\n",
    "import numpy as np\n",
    "import matplotlib.pyplot as plt\n",
    "from tqdm import tqdm_notebook as tqdm\n",
    "#Авторизации\n",
    "logopass=pd.read_excel('lp.xlsx')\n",
    "neologin=logopass.query('system==\"neo\"').reset_index().login[0]\n",
    "neopass=logopass.query('system==\"neo\"').reset_index().password[0]\n",
    "#Авторизация neo4j\n",
    "graph = Graph(\"https://neo4j-kanban.biocad.ru:443\", auth=(neologin, neopass))\n",
    "#Авторизация REPKA\n",
    "login_token = logopass.query('system==\"repka\"').reset_index().token[0]\n",
    "from IPython.core.display import display, HTML\n",
    "display(HTML(\"<style>.container { width:80% !important; }</style>\"))\n",
    "#Устанавливаем стили для графика\n",
    "plt.style.use('bmh')\n",
    "plt.rcParams['figure.figsize'] = 15, 6"
   ]
  },
  {
   "cell_type": "code",
   "execution_count": null,
   "metadata": {},
   "outputs": [],
   "source": [
    "3141225 2019-04-04\n",
    "3141227 2019-02-25\n",
    "3141221 2024-03-29\n",
    "3141377 2023-02-28"
   ]
  },
  {
   "cell_type": "code",
   "execution_count": 8,
   "metadata": {},
   "outputs": [
    {
     "data": {
      "application/vnd.jupyter.widget-view+json": {
       "model_id": "18300d0331f84699a3111dbcea03cb3a",
       "version_major": 2,
       "version_minor": 0
      },
      "text/plain": [
       "HBox(children=(IntProgress(value=0, max=1), HTML(value='')))"
      ]
     },
     "metadata": {},
     "output_type": "display_data"
    },
    {
     "name": "stdout",
     "output_type": "stream",
     "text": [
      "\n"
     ]
    },
    {
     "data": {
      "text/plain": [
       "200"
      ]
     },
     "execution_count": 8,
     "metadata": {},
     "output_type": "execute_result"
    }
   ],
   "source": [
    "request=\"\"\"\n",
    "match (t:TaskNode) where t.bkb_id=3141377\n",
    "return distinct t.name as Name, t.bkb_id as ID\n",
    "\"\"\"\n",
    "df=graph.run(request).to_data_frame()\n",
    "\n",
    "replaces = {}\n",
    "replaces['forecast'] = '2023-02-28'\n",
    "\n",
    "#Дергаем API   \n",
    "for i in tqdm(range(df.shape[0])):\n",
    "    r = requests.patch('https://repka.biocad.ru/api/v1/tasks/'+str(int(df['ID'][i]))+'/' ,\n",
    "                       json=replaces, headers = {'Authorization': 'Token ' + login_token}, verify=False)\n",
    "r.status_code"
   ]
  },
  {
   "cell_type": "code",
   "execution_count": 4,
   "metadata": {},
   "outputs": [
    {
     "data": {
      "text/html": [
       "<div>\n",
       "<style scoped>\n",
       "    .dataframe tbody tr th:only-of-type {\n",
       "        vertical-align: middle;\n",
       "    }\n",
       "\n",
       "    .dataframe tbody tr th {\n",
       "        vertical-align: top;\n",
       "    }\n",
       "\n",
       "    .dataframe thead th {\n",
       "        text-align: right;\n",
       "    }\n",
       "</style>\n",
       "<table border=\"1\" class=\"dataframe\">\n",
       "  <thead>\n",
       "    <tr style=\"text-align: right;\">\n",
       "      <th></th>\n",
       "      <th>Name</th>\n",
       "      <th>ID</th>\n",
       "    </tr>\n",
       "  </thead>\n",
       "  <tbody>\n",
       "    <tr>\n",
       "      <th>0</th>\n",
       "      <td>BCD-132  [CD20] Получить разрешение на КИ 2 фа...</td>\n",
       "      <td>3141225</td>\n",
       "    </tr>\n",
       "  </tbody>\n",
       "</table>\n",
       "</div>"
      ],
      "text/plain": [
       "                                                Name       ID\n",
       "0  BCD-132  [CD20] Получить разрешение на КИ 2 фа...  3141225"
      ]
     },
     "execution_count": 4,
     "metadata": {},
     "output_type": "execute_result"
    }
   ],
   "source": [
    "df.head()"
   ]
  },
  {
   "cell_type": "code",
   "execution_count": 1,
   "metadata": {},
   "outputs": [
    {
     "ename": "NameError",
     "evalue": "name 'tqdm' is not defined",
     "output_type": "error",
     "traceback": [
      "\u001b[1;31m---------------------------------------------------------------------------\u001b[0m",
      "\u001b[1;31mNameError\u001b[0m                                 Traceback (most recent call last)",
      "\u001b[1;32m<ipython-input-1-c13bd271a9bc>\u001b[0m in \u001b[0;36m<module>\u001b[1;34m\u001b[0m\n\u001b[0;32m      3\u001b[0m \u001b[0mreplaces\u001b[0m\u001b[1;33m[\u001b[0m\u001b[1;34m'to'\u001b[0m\u001b[1;33m]\u001b[0m \u001b[1;33m=\u001b[0m \u001b[1;34m'2021-07-31'\u001b[0m\u001b[1;33m\u001b[0m\u001b[1;33m\u001b[0m\u001b[0m\n\u001b[0;32m      4\u001b[0m \u001b[1;31m#Дергаем API\u001b[0m\u001b[1;33m\u001b[0m\u001b[1;33m\u001b[0m\u001b[1;33m\u001b[0m\u001b[0m\n\u001b[1;32m----> 5\u001b[1;33m \u001b[1;32mfor\u001b[0m \u001b[0mi\u001b[0m \u001b[1;32min\u001b[0m \u001b[0mtqdm\u001b[0m\u001b[1;33m(\u001b[0m\u001b[0mrange\u001b[0m\u001b[1;33m(\u001b[0m\u001b[0mdf\u001b[0m\u001b[1;33m.\u001b[0m\u001b[0mshape\u001b[0m\u001b[1;33m[\u001b[0m\u001b[1;36m0\u001b[0m\u001b[1;33m]\u001b[0m\u001b[1;33m)\u001b[0m\u001b[1;33m)\u001b[0m\u001b[1;33m:\u001b[0m\u001b[1;33m\u001b[0m\u001b[1;33m\u001b[0m\u001b[0m\n\u001b[0m\u001b[0;32m      6\u001b[0m     r = requests.patch('https://repka.biocad.ru/api/v1/tasks/'+str(int(df['ID'][i]))+'/' ,\n\u001b[0;32m      7\u001b[0m                        json=replaces, headers = {'Authorization': 'Token ' + login_token}, verify=False)\n",
      "\u001b[1;31mNameError\u001b[0m: name 'tqdm' is not defined"
     ]
    }
   ],
   "source": [
    "replaces = {}\n",
    "replaces['forecast'] = '2021-05-20'\n",
    "\n",
    "#Дергаем API   \n",
    "for i in tqdm(range(df.shape[0])):\n",
    "    r = requests.patch('https://repka.biocad.ru/api/v1/tasks/'+str(int(df['ID'][i]))+'/' ,\n",
    "                       json=replaces, headers = {'Authorization': 'Token ' + login_token}, verify=False)\n",
    "r.status_code"
   ]
  },
  {
   "cell_type": "code",
   "execution_count": 10,
   "metadata": {},
   "outputs": [
    {
     "data": {
      "text/html": [
       "<div>\n",
       "<style scoped>\n",
       "    .dataframe tbody tr th:only-of-type {\n",
       "        vertical-align: middle;\n",
       "    }\n",
       "\n",
       "    .dataframe tbody tr th {\n",
       "        vertical-align: top;\n",
       "    }\n",
       "\n",
       "    .dataframe thead th {\n",
       "        text-align: right;\n",
       "    }\n",
       "</style>\n",
       "<table border=\"1\" class=\"dataframe\">\n",
       "  <thead>\n",
       "    <tr style=\"text-align: right;\">\n",
       "      <th></th>\n",
       "      <th>Name</th>\n",
       "      <th>Team</th>\n",
       "      <th>Team_id</th>\n",
       "      <th>Template</th>\n",
       "      <th>Template_id</th>\n",
       "    </tr>\n",
       "  </thead>\n",
       "  <tbody>\n",
       "    <tr>\n",
       "      <th>0</th>\n",
       "      <td>Использование коммерческих структур в рамках О...</td>\n",
       "      <td>Covid.Управление</td>\n",
       "      <td>4738</td>\n",
       "      <td>Управление партнерствами</td>\n",
       "      <td>27860</td>\n",
       "    </tr>\n",
       "    <tr>\n",
       "      <th>1</th>\n",
       "      <td>Телемедицина, план по развитию</td>\n",
       "      <td>Covid.Управление</td>\n",
       "      <td>4738</td>\n",
       "      <td>Управление партнерствами</td>\n",
       "      <td>27860</td>\n",
       "    </tr>\n",
       "    <tr>\n",
       "      <th>2</th>\n",
       "      <td>Диспансеризация детей ?</td>\n",
       "      <td>Covid.Управление</td>\n",
       "      <td>4738</td>\n",
       "      <td>Управление партнерствами</td>\n",
       "      <td>27860</td>\n",
       "    </tr>\n",
       "    <tr>\n",
       "      <th>3</th>\n",
       "      <td>План по ограничительным мерам в связке со стат...</td>\n",
       "      <td>Covid.Управление</td>\n",
       "      <td>4738</td>\n",
       "      <td>Управление партнерствами</td>\n",
       "      <td>27860</td>\n",
       "    </tr>\n",
       "    <tr>\n",
       "      <th>4</th>\n",
       "      <td>Проверить поликлинические очереди</td>\n",
       "      <td>Covid.Управление</td>\n",
       "      <td>4738</td>\n",
       "      <td>Управление партнерствами</td>\n",
       "      <td>27860</td>\n",
       "    </tr>\n",
       "  </tbody>\n",
       "</table>\n",
       "</div>"
      ],
      "text/plain": [
       "                                                Name               Team  \\\n",
       "0  Использование коммерческих структур в рамках О...   Covid.Управление   \n",
       "1                    Телемедицина, план по развитию   Covid.Управление    \n",
       "2                           Диспансеризация детей ?   Covid.Управление    \n",
       "3  План по ограничительным мерам в связке со стат...  Covid.Управление    \n",
       "4                 Проверить поликлинические очереди   Covid.Управление    \n",
       "\n",
       "   Team_id                  Template  Template_id  \n",
       "0     4738  Управление партнерствами        27860  \n",
       "1     4738  Управление партнерствами        27860  \n",
       "2     4738  Управление партнерствами        27860  \n",
       "3     4738  Управление партнерствами        27860  \n",
       "4     4738  Управление партнерствами        27860  "
      ]
     },
     "execution_count": 10,
     "metadata": {},
     "output_type": "execute_result"
    }
   ],
   "source": [
    "#Чтение эксельки - ковидный штаб\n",
    "cov=pd.read_excel(\"Задачи covid.xlsx\")\n",
    "cov.head()"
   ]
  },
  {
   "cell_type": "code",
   "execution_count": 11,
   "metadata": {},
   "outputs": [
    {
     "data": {
      "application/vnd.jupyter.widget-view+json": {
       "model_id": "14140ac207c2404e93694699a4bdd134",
       "version_major": 2,
       "version_minor": 0
      },
      "text/plain": [
       "HBox(children=(IntProgress(value=0, max=101), HTML(value='')))"
      ]
     },
     "metadata": {},
     "output_type": "display_data"
    },
    {
     "name": "stdout",
     "output_type": "stream",
     "text": [
      "\n"
     ]
    },
    {
     "data": {
      "text/plain": [
       "201"
      ]
     },
     "execution_count": 11,
     "metadata": {},
     "output_type": "execute_result"
    }
   ],
   "source": [
    "#Создание задач - ковидный штаб\n",
    "replaces = {}\n",
    "replaces['status'] = 'NEW'\n",
    "replaces['priority'] = '200'\n",
    "replaces['client']='5496'\n",
    "replaces['project']='4496'\n",
    "#Дергаем API   \n",
    "for i in tqdm(range(cov.shape[0])):\n",
    "    replaces[\"assigned_to_team\"] = str(int(cov['Team_id'][i]))\n",
    "    replaces[\"name\"] = str(cov['Name'][i])\n",
    "    replaces[\"task_template\"] = str(int(cov['Template_id'][i]))\n",
    "    r = requests.post('https://repka.biocad.ru/api/v1/tasks/' ,\n",
    "                       json=replaces, headers = {'Authorization': 'Token ' + login_token}, verify=False)\n",
    "r.status_code"
   ]
  },
  {
   "cell_type": "code",
   "execution_count": 14,
   "metadata": {},
   "outputs": [],
   "source": [
    "#Задачи штаб\n",
    "request=\"\"\"\n",
    "match (t:TaskNode)--(p:ProjectNode {bkb_id:4496})\n",
    "return t.name as Name, t.bkb_id as ID\n",
    "\"\"\"\n",
    "df=graph.run(request).to_data_frame()"
   ]
  },
  {
   "cell_type": "code",
   "execution_count": 16,
   "metadata": {},
   "outputs": [
    {
     "data": {
      "application/vnd.jupyter.widget-view+json": {
       "model_id": "b34401530a7e4793bbe7712f02c25b97",
       "version_major": 2,
       "version_minor": 0
      },
      "text/plain": [
       "HBox(children=(IntProgress(value=0, max=101), HTML(value='')))"
      ]
     },
     "metadata": {},
     "output_type": "display_data"
    },
    {
     "ename": "KeyError",
     "evalue": "100",
     "output_type": "error",
     "traceback": [
      "\u001b[1;31m---------------------------------------------------------------------------\u001b[0m",
      "\u001b[1;31mKeyError\u001b[0m                                  Traceback (most recent call last)",
      "\u001b[1;32m<ipython-input-16-37ba070e9b83>\u001b[0m in \u001b[0;36m<module>\u001b[1;34m\u001b[0m\n\u001b[0;32m      5\u001b[0m \u001b[1;31m#Дергаем API\u001b[0m\u001b[1;33m\u001b[0m\u001b[1;33m\u001b[0m\u001b[1;33m\u001b[0m\u001b[0m\n\u001b[0;32m      6\u001b[0m \u001b[1;32mfor\u001b[0m \u001b[0mi\u001b[0m \u001b[1;32min\u001b[0m \u001b[0mtqdm\u001b[0m\u001b[1;33m(\u001b[0m\u001b[0mrange\u001b[0m\u001b[1;33m(\u001b[0m\u001b[0mcov\u001b[0m\u001b[1;33m.\u001b[0m\u001b[0mshape\u001b[0m\u001b[1;33m[\u001b[0m\u001b[1;36m0\u001b[0m\u001b[1;33m]\u001b[0m\u001b[1;33m)\u001b[0m\u001b[1;33m)\u001b[0m\u001b[1;33m:\u001b[0m\u001b[1;33m\u001b[0m\u001b[1;33m\u001b[0m\u001b[0m\n\u001b[1;32m----> 7\u001b[1;33m     \u001b[0mreplaces\u001b[0m\u001b[1;33m[\u001b[0m\u001b[1;34m\"task\"\u001b[0m\u001b[1;33m]\u001b[0m \u001b[1;33m=\u001b[0m \u001b[0mstr\u001b[0m\u001b[1;33m(\u001b[0m\u001b[0mint\u001b[0m\u001b[1;33m(\u001b[0m\u001b[0mdf\u001b[0m\u001b[1;33m[\u001b[0m\u001b[1;34m'ID'\u001b[0m\u001b[1;33m]\u001b[0m\u001b[1;33m[\u001b[0m\u001b[0mi\u001b[0m\u001b[1;33m]\u001b[0m\u001b[1;33m)\u001b[0m\u001b[1;33m)\u001b[0m\u001b[1;33m\u001b[0m\u001b[1;33m\u001b[0m\u001b[0m\n\u001b[0m\u001b[0;32m      8\u001b[0m     r = requests.post('https://repka.biocad.ru/api/v1/task-additional-fields/' ,\n\u001b[0;32m      9\u001b[0m                        json=replaces, headers = {'Authorization': 'Token ' + login_token}, verify=False)\n",
      "\u001b[1;32mC:\\ProgramData\\Anaconda3\\lib\\site-packages\\pandas\\core\\series.py\u001b[0m in \u001b[0;36m__getitem__\u001b[1;34m(self, key)\u001b[0m\n\u001b[0;32m    866\u001b[0m         \u001b[0mkey\u001b[0m \u001b[1;33m=\u001b[0m \u001b[0mcom\u001b[0m\u001b[1;33m.\u001b[0m\u001b[0mapply_if_callable\u001b[0m\u001b[1;33m(\u001b[0m\u001b[0mkey\u001b[0m\u001b[1;33m,\u001b[0m \u001b[0mself\u001b[0m\u001b[1;33m)\u001b[0m\u001b[1;33m\u001b[0m\u001b[1;33m\u001b[0m\u001b[0m\n\u001b[0;32m    867\u001b[0m         \u001b[1;32mtry\u001b[0m\u001b[1;33m:\u001b[0m\u001b[1;33m\u001b[0m\u001b[1;33m\u001b[0m\u001b[0m\n\u001b[1;32m--> 868\u001b[1;33m             \u001b[0mresult\u001b[0m \u001b[1;33m=\u001b[0m \u001b[0mself\u001b[0m\u001b[1;33m.\u001b[0m\u001b[0mindex\u001b[0m\u001b[1;33m.\u001b[0m\u001b[0mget_value\u001b[0m\u001b[1;33m(\u001b[0m\u001b[0mself\u001b[0m\u001b[1;33m,\u001b[0m \u001b[0mkey\u001b[0m\u001b[1;33m)\u001b[0m\u001b[1;33m\u001b[0m\u001b[1;33m\u001b[0m\u001b[0m\n\u001b[0m\u001b[0;32m    869\u001b[0m \u001b[1;33m\u001b[0m\u001b[0m\n\u001b[0;32m    870\u001b[0m             \u001b[1;32mif\u001b[0m \u001b[1;32mnot\u001b[0m \u001b[0mis_scalar\u001b[0m\u001b[1;33m(\u001b[0m\u001b[0mresult\u001b[0m\u001b[1;33m)\u001b[0m\u001b[1;33m:\u001b[0m\u001b[1;33m\u001b[0m\u001b[1;33m\u001b[0m\u001b[0m\n",
      "\u001b[1;32mC:\\ProgramData\\Anaconda3\\lib\\site-packages\\pandas\\core\\indexes\\base.py\u001b[0m in \u001b[0;36mget_value\u001b[1;34m(self, series, key)\u001b[0m\n\u001b[0;32m   4373\u001b[0m         \u001b[1;32mtry\u001b[0m\u001b[1;33m:\u001b[0m\u001b[1;33m\u001b[0m\u001b[1;33m\u001b[0m\u001b[0m\n\u001b[0;32m   4374\u001b[0m             return self._engine.get_value(s, k,\n\u001b[1;32m-> 4375\u001b[1;33m                                           tz=getattr(series.dtype, 'tz', None))\n\u001b[0m\u001b[0;32m   4376\u001b[0m         \u001b[1;32mexcept\u001b[0m \u001b[0mKeyError\u001b[0m \u001b[1;32mas\u001b[0m \u001b[0me1\u001b[0m\u001b[1;33m:\u001b[0m\u001b[1;33m\u001b[0m\u001b[1;33m\u001b[0m\u001b[0m\n\u001b[0;32m   4377\u001b[0m             \u001b[1;32mif\u001b[0m \u001b[0mlen\u001b[0m\u001b[1;33m(\u001b[0m\u001b[0mself\u001b[0m\u001b[1;33m)\u001b[0m \u001b[1;33m>\u001b[0m \u001b[1;36m0\u001b[0m \u001b[1;32mand\u001b[0m \u001b[1;33m(\u001b[0m\u001b[0mself\u001b[0m\u001b[1;33m.\u001b[0m\u001b[0mholds_integer\u001b[0m\u001b[1;33m(\u001b[0m\u001b[1;33m)\u001b[0m \u001b[1;32mor\u001b[0m \u001b[0mself\u001b[0m\u001b[1;33m.\u001b[0m\u001b[0mis_boolean\u001b[0m\u001b[1;33m(\u001b[0m\u001b[1;33m)\u001b[0m\u001b[1;33m)\u001b[0m\u001b[1;33m:\u001b[0m\u001b[1;33m\u001b[0m\u001b[1;33m\u001b[0m\u001b[0m\n",
      "\u001b[1;32mpandas/_libs/index.pyx\u001b[0m in \u001b[0;36mpandas._libs.index.IndexEngine.get_value\u001b[1;34m()\u001b[0m\n",
      "\u001b[1;32mpandas/_libs/index.pyx\u001b[0m in \u001b[0;36mpandas._libs.index.IndexEngine.get_value\u001b[1;34m()\u001b[0m\n",
      "\u001b[1;32mpandas/_libs/index.pyx\u001b[0m in \u001b[0;36mpandas._libs.index.IndexEngine.get_loc\u001b[1;34m()\u001b[0m\n",
      "\u001b[1;32mpandas/_libs/hashtable_class_helper.pxi\u001b[0m in \u001b[0;36mpandas._libs.hashtable.Int64HashTable.get_item\u001b[1;34m()\u001b[0m\n",
      "\u001b[1;32mpandas/_libs/hashtable_class_helper.pxi\u001b[0m in \u001b[0;36mpandas._libs.hashtable.Int64HashTable.get_item\u001b[1;34m()\u001b[0m\n",
      "\u001b[1;31mKeyError\u001b[0m: 100"
     ]
    }
   ],
   "source": [
    "#Результаты под задачи штаб\n",
    "replaces = {}\n",
    "replaces['name'] = 'Задача выполнена'\n",
    "replaces['type'] = 'OTHER'\n",
    "\n",
    "#Дергаем API   \n",
    "for i in tqdm(range(df.shape[0])):\n",
    "    replaces[\"task\"] = str(int(df['ID'][i]))\n",
    "    r = requests.post('https://repka.biocad.ru/api/v1/task-additional-fields/' ,\n",
    "                       json=replaces, headers = {'Authorization': 'Token ' + login_token}, verify=False)\n",
    "r.status_code"
   ]
  },
  {
   "cell_type": "code",
   "execution_count": 31,
   "metadata": {},
   "outputs": [
    {
     "data": {
      "text/plain": [
       "(102, 3)"
      ]
     },
     "execution_count": 31,
     "metadata": {},
     "output_type": "execute_result"
    }
   ],
   "source": [
    "df.shape"
   ]
  },
  {
   "cell_type": "code",
   "execution_count": 32,
   "metadata": {},
   "outputs": [
    {
     "data": {
      "application/vnd.jupyter.widget-view+json": {
       "model_id": "512e70cb561b42d0bc602610f459f4c7",
       "version_major": 2,
       "version_minor": 0
      },
      "text/plain": [
       "HBox(children=(IntProgress(value=0, max=102), HTML(value='')))"
      ]
     },
     "metadata": {},
     "output_type": "display_data"
    },
    {
     "name": "stdout",
     "output_type": "stream",
     "text": [
      "\n"
     ]
    },
    {
     "data": {
      "text/plain": [
       "204"
      ]
     },
     "execution_count": 32,
     "metadata": {},
     "output_type": "execute_result"
    }
   ],
   "source": [
    "#Удаление типовых задач\n",
    "#replaces = {}\n",
    "#replaces['is_deleted'] = 'true'\n",
    "#Дергаем API   \n",
    "for i in tqdm(range(df.shape[0])):\n",
    "    r = requests.delete('https://repka.biocad.ru/api/v1/teams/' + str(int(df['ID'][i])) + '/',\n",
    "                       json=replaces, headers = {'Authorization': 'Token ' + login_token}, verify=False)\n",
    "r.status_code"
   ]
  },
  {
   "cell_type": "code",
   "execution_count": 108,
   "metadata": {
    "scrolled": true
   },
   "outputs": [
    {
     "data": {
      "application/vnd.jupyter.widget-view+json": {
       "model_id": "aa4d5f7822e54776a81f4588b2575a96",
       "version_major": 2,
       "version_minor": 0
      },
      "text/plain": [
       "HBox(children=(IntProgress(value=0, max=1), HTML(value='')))"
      ]
     },
     "metadata": {},
     "output_type": "display_data"
    },
    {
     "data": {
      "text/plain": [
       "200"
      ]
     },
     "execution_count": 108,
     "metadata": {},
     "output_type": "execute_result"
    }
   ],
   "source": [
    "#Смена статуса\n",
    "replaces = {}\n",
    "\n",
    "#replaces['status'] = 'PLAN'\n",
    "#replaces['status'] = 'IN_PROGRESS'\n",
    "#Дергаем API   \n",
    "for task in tqdm(range(df.shape[0])):\n",
    "    replaces['status'] = 'PLAN'\n",
    "    r = requests.patch('https://repka.biocad.ru/api/v1/tasks/' + str(int(df['task'][task])) + '/',\n",
    "                       json=replaces, headers = {'Authorization': 'Token ' + login_token})\n",
    "    replaces['status'] = 'IN_PROGRESS'\n",
    "    replaces['substatus_name'] = df['Substatus'][task]\n",
    "    r = requests.patch('https://repka.biocad.ru/api/v1/tasks/' + str(int(df['task'][task])) + '/',\n",
    "                       json=replaces, headers = {'Authorization': 'Token ' + login_token})\n",
    "r.status_code\n",
    "\n",
    "\n"
   ]
  },
  {
   "cell_type": "code",
   "execution_count": 81,
   "metadata": {},
   "outputs": [
    {
     "data": {
      "text/plain": [
       "'{\"id\":2365630,\"assigned_to_username\":null,\"task_template\":11831,\"ext_fields\":{\"assigned_to__name\":\"Жоров Даниил Сергеевич\",\"assigned_to__avatar\":\"https://auth.newportal.biocad.ru//uploads/user/avatar/4543/small_c42e1973-7c5f-4b31-a608-489a25ae93b7.jpg\",\"assigned_to__username\":\"zhorov\",\"assigned_to__teams\":null,\"assignee_avatar\":\"https://auth.newportal.biocad.ru//uploads/user/avatar/4543/small_c42e1973-7c5f-4b31-a608-489a25ae93b7.jpg\",\"assignee_username\":\"zhorov\",\"assigned_to_team__name\":\"Департамент Организационной Трансформации (ДОТ)\",\"assigned_to_team__icon_config\":{\"text\":\"ДОТ\",\"text_color\":\"#FFFFFF\",\"stroke_color\":\"#AD3400\",\"background_color\":\"#202226\"},\"assigned_to_team__board__id\":10475,\"project__name\":null,\"project__status\":null,\"project__has_high_priority\":null,\"project__code\":null,\"project__program\":null,\"project__program__name\":null,\"project__program__description\":null,\"project__pp_project_url\":null,\"project__pp_program_url\":null,\"task_template__name\":\"Я не могу выбрать типовую задачу / Template cannot be found\",\"task_template__equipment\":null,\"task_template__external_url\":null,\"task_template__use_equipment_item\":false,\"task_template__use_story_points\":true,\"task_template__story_points_name\":null,\"task_template__planned_spending\":null,\"task_template__spending_dynamic_term\":null,\"task_template__is_dynamic_planned_spending\":false,\"task_template__equipment_spending\":null,\"task_template__client_knows_equipment\":false,\"task_template__worklog_required\":false,\"task_template__is_pause_forbidden\":false,\"work_item_type\":1222,\"work_item_type__name\":\"Я не могу выбрать WIT / WIT cannot be found\",\"work_item_type__color\":\"#008A27\",\"status\":\"В работе\",\"substatus__name\":\"В работе\",\"substatus__group_name\":null,\"substatus__resource_type\":\"PERSON\",\"parent__name\":\"\",\"parent__is_paused\":false,\"paused_at\":null,\"equipment_item__name\":\"\",\"equipment_item__equipment\":\"\",\"equipment_item__supporting_description\":\"\",\"equipment_item__guid\":\"\",\"count_all_subtasks\":0,\"count_complete_subtasks\":0,\"count_late_subtasks\":0,\"count_all_predecessors\":0,\"count_complete_predecessors\":0,\"count_late_predecessors\":0,\"count_comments\":0,\"task_link\":\"https://repka.biocad.ru/tasks/2365630\",\"has_sla\":false,\"has_user_worklog\":true,\"has_equipment_item_worklog\":false,\"client__name\":\"Жоров Даниил Сергеевич\",\"client__avatar\":\"https://auth.newportal.biocad.ru//uploads/user/avatar/4543/small_c42e1973-7c5f-4b31-a608-489a25ae93b7.jpg\",\"client__username\":\"zhorov\",\"chain_process__name\":null,\"sprint__num\":null,\"sprint__finish\":null,\"results\":{\"count_all_results\":1,\"count_not_ready_results\":1,\"count_checked_results\":0,\"count_unsuccessfully_results\":0,\"count_in_progress_results\":1,\"count_ready_results\":0,\"count_accepted_results\":0},\"tags\":[],\"term_sla_deadline\":null,\"updated_task_ids\":[2365630],\"rel_blocks_status\":\"NONE\",\"first_blocked_task\":null,\"sla__agreed_term\":\"\",\"sla__dynamic_term\":\"\",\"sla__agreed_percent\":null,\"sla__method\":null,\"sla__is_dynamic\":false},\"created_at\":\"2020-10-02T15:44:48.536773+03:00\",\"updated_at\":\"2020-11-06T11:28:15.720565+03:00\",\"external_id\":null,\"external_source\":null,\"external_url\":null,\"appear_time\":\"2020-10-02T15:44:48.531030+03:00\",\"customer_lead_time\":null,\"is_paused\":false,\"story_points\":null,\"rating\":null,\"is_pause_forbidden\":false,\"is_paused_until_date\":null,\"agreed_term\":null,\"dynamic_term\":null,\"agreed_percent\":null,\"meet_sla\":\"NOT_CALCULATED\",\"term_sla\":null,\"sla_method\":null,\"is_dynamic\":false,\"finish_time\":null,\"calc_finish_time\":null,\"planned_duration\":null,\"planned_start_date\":null,\"actual_start_date\":\"2020-10-22T10:19:56.672348+03:00\",\"actual_duration\":null,\"initial_deadline\":null,\"calc_start_time\":\"2020-11-06T11:28:15.694715+03:00\",\"forecast\":null,\"path\":\"2365630\",\"depth\":1,\"acceptance_is_complete\":false,\"acceptance_status\":\"NOT_EVALUATED\",\"revision_counter\":0,\"mandatory_auto_acceptance_date\":null,\"acceptance_completion_date\":null,\"name\":\"Прохождение обучения PO\",\"status\":\"IN_PROGRESS\",\"priority\":200,\"deadline\":null,\"description\":null,\"created_by\":7036,\"updated_by\":6483,\"equipment_item\":null,\"chain_process\":null,\"inclusion\":null,\"parent\":null,\"client\":7036,\"sprint\":null,\"assigned_to\":7036,\"assigned_to_team\":4401,\"project\":null,\"substatus\":40089,\"watchers\":[]}'"
      ]
     },
     "execution_count": 81,
     "metadata": {},
     "output_type": "execute_result"
    }
   ],
   "source": [
    "r.text"
   ]
  },
  {
   "cell_type": "code",
   "execution_count": 3,
   "metadata": {},
   "outputs": [
    {
     "data": {
      "application/vnd.jupyter.widget-view+json": {
       "model_id": "51eb46c3d8894e3d968e57c973e03587",
       "version_major": 2,
       "version_minor": 0
      },
      "text/plain": [
       "HBox(children=(IntProgress(value=0, max=41), HTML(value='')))"
      ]
     },
     "metadata": {},
     "output_type": "display_data"
    },
    {
     "name": "stdout",
     "output_type": "stream",
     "text": [
      "\n"
     ]
    },
    {
     "data": {
      "text/plain": [
       "204"
      ]
     },
     "execution_count": 3,
     "metadata": {},
     "output_type": "execute_result"
    }
   ],
   "source": [
    "#Удаление мертвых команд\n",
    "request=\"\"\"match (team:TeamNode {is_deleted:false}) where not (team)--(:UserNode {state:\"Работа\"}) and not team.bkb_id in [3479,4320]\n",
    "optional match (team)--(u:UserNode)\n",
    "Return distinct team.name, team.bkb_id as ID, collect (u.username), collect (u.state)\"\"\"\n",
    "df=graph.run(request).to_data_frame()\n",
    "\n",
    "replaces = {}\n",
    "\n",
    "replaces['is_deleted'] = 'true'\n",
    "\n",
    "#Дергаем API   \n",
    "for i in tqdm(range(df.shape[0])):\n",
    "    r = requests.delete('https://repka.biocad.ru/api/v1/teams/' + str(int(df['ID'][i])) + '/',\n",
    "                       #json=replaces, \n",
    "                        headers = {'Authorization': 'Token ' + login_token})\n",
    "r.status_code"
   ]
  },
  {
   "cell_type": "code",
   "execution_count": null,
   "metadata": {},
   "outputs": [],
   "source": []
  },
  {
   "cell_type": "markdown",
   "metadata": {},
   "source": [
    "#Привязка типовых задач  \n",
    "for i in tqdm(range(df.shape[0])):\n",
    "    replaces= {}\n",
    "    replaces['team']=str(int(df['id'][i]))\n",
    "    replaces['task_template']='15177'\n",
    "    r = requests.post('https://repka.biocad.ru/api/v1/team-task-template-links/' + '/',\n",
    "                       json=replaces, headers = {'Authorization': 'Token ' + login_token})\n",
    "    print(r.status_code)\n"
   ]
  },
  {
   "cell_type": "code",
   "execution_count": 53,
   "metadata": {},
   "outputs": [
    {
     "data": {
      "text/plain": [
       "'{\"detail\":\"Не найдено.\",\"exception\":\"Http404\"}'"
      ]
     },
     "execution_count": 53,
     "metadata": {},
     "output_type": "execute_result"
    }
   ],
   "source": [
    "r.text"
   ]
  },
  {
   "cell_type": "markdown",
   "metadata": {},
   "source": [
    "#TaskTemplatesEditing\n",
    "request=\"\"\"\n",
    "match (tt:TaskTemplateNode)--(team:TeamNode)\n",
    "where team.name contains 'Evolution' and not tt.is_deleted=true\n",
    "optional match (tt)--(t:TeamNode)\n",
    "return distinct tt.bkb_id as bkb, tt.name, tt.is_deleted, count (distinct t) as Teams order by Teams desc\n",
    "\"\"\"\n",
    "df=graph.run(request).to_data_frame()\n",
    "replaces = {}\n",
    "\n",
    "replaces['is_deleted'] = 'true'\n",
    "\n",
    "#Дергаем API   \n",
    "for i in tqdm(range(df.shape[0])):\n",
    "    r = requests.patch('https://repka.biocad.ru/api/v1/task-templates/' + str(int(df['bkb'][i])) + '/',\n",
    "                       json=replaces, headers = {'Authorization': 'Token ' + login_token})\n",
    "r.status_code"
   ]
  },
  {
   "cell_type": "code",
   "execution_count": 43,
   "metadata": {},
   "outputs": [],
   "source": [
    "request1=\"\"\"\n",
    "match (u:UserNode) where u.state='Работа'\n",
    "return u.name as user, u.username as Username, u.bkb_id as User_ID\n",
    "\n",
    "\n",
    "\n",
    "\"\"\"\n",
    "users=graph.run(request1).to_data_frame()"
   ]
  },
  {
   "cell_type": "markdown",
   "metadata": {},
   "source": [
    "#Только русские пользаки\n",
    "import re\n",
    "rus_users=users[~users['user'].str.contains('[A-Za-z]+', flags=re.IGNORECASE, regex=True, na=False)]"
   ]
  },
  {
   "cell_type": "markdown",
   "metadata": {},
   "source": [
    "rus_users.to_excel('rus_users.xlsx')"
   ]
  },
  {
   "cell_type": "markdown",
   "metadata": {},
   "source": [
    "#print(list(rus_users['User_ID']))"
   ]
  },
  {
   "cell_type": "markdown",
   "metadata": {},
   "source": [
    "#QC 2.0\n",
    "request = \"\"\"match (t:TaskNode)--(team:TeamNode {is_deleted:false}) \n",
    "where team.name contains 'Отдел обеспечения качества 2.0' and t.created_at contains '2019'\n",
    "optional match (w:WitNode)--(tt:TaskTemplateNode)-[:BASE_FOR]-(t)\n",
    "optional match (t)-[:CLIENT]-(c:UserNode)\n",
    "return t.bkb_id as ID,t.name as Name, t.description as Description,tt.name as TaskTemplate,\n",
    "t.user_name as User, t.customer_lead_time/3600 as CLT_hours, \n",
    "CASE\n",
    "when exists (t.actual_start) then (t.actual_start_epoch-t.created_at_epoch)/3600\n",
    "else (timestamp()/1000-t.created_at_epoch)/3600\n",
    "END as BL_time_hours, \n",
    "CASE when exists (t.finish_time_epoch) then (t.finish_time_epoch-t.created_at_epoch)/3600\n",
    "else 'не завершено' END as TLT_hours, c.erp_team as Client\"\"\"\n",
    "df=graph.run(request).to_data_frame()\n",
    "df=df[['ID','Name','Description','TaskTemplate','User','CLT_hours','BL_time_hours','TLT_hours','Client']]\n",
    "df.to_excel('QC2.xlsx')"
   ]
  },
  {
   "cell_type": "markdown",
   "metadata": {},
   "source": [
    "df.head(50)"
   ]
  },
  {
   "cell_type": "code",
   "execution_count": 3,
   "metadata": {
    "scrolled": true
   },
   "outputs": [
    {
     "name": "stdout",
     "output_type": "stream",
     "text": [
      "                                                name   status    task\n",
      "0                Пробоподготовка по MW деглико LC-HC  DISCARD  900918\n",
      "1                Анализ образцов по MW деглико LC-HC  DISCARD  900917\n",
      "2  Проведение обработки данных по анализу MW дегл...  DISCARD  900916\n",
      "3  Пробоподготовка по MW глико / MW цельной молекулы  DISCARD  900674\n",
      "4  Анализ образцов по MW глико / MW цельной молекулы  DISCARD  900673\n",
      "5  Проведение обработки данных по анализу MW глик...  DISCARD  900672\n",
      "6                            Подготовка хроматографа     PLAN  900544\n",
      "7                                    Подготовка проб     PLAN  900543\n",
      "8                                      Анализ данных     PLAN  900542\n",
      "9                            Подготовка хроматографа     PLAN  900540 \n",
      " (2535, 3)\n"
     ]
    }
   ],
   "source": [
    "#Поиск задач\n",
    "df = graph.run(\"\"\"\n",
    "match (a:TaskNode)-[:CREATED_BY]-(b:UserNode) where b.name contains \"BIMS\" and a.external_url is null \n",
    "return a.bkb_id as task,a.name as name, a.status as status\n",
    "\"\"\").to_data_frame()\n",
    "\n",
    "print (df.head(10),'\\n',df.shape)"
   ]
  },
  {
   "cell_type": "markdown",
   "metadata": {},
   "source": [
    "df=oom"
   ]
  },
  {
   "cell_type": "markdown",
   "metadata": {},
   "source": [
    "r.text"
   ]
  },
  {
   "cell_type": "markdown",
   "metadata": {},
   "source": [
    "#Поиск задач\n",
    "df = graph.run(\"\"\"\n",
    "match (a:TaskNode)--(b:ProjectNode) where b.code in [\"DP-82\"]\n",
    "return a.bkb_id as task,a.name as name, a.status as status\n",
    "\"\"\").to_data_frame()\n",
    "\n",
    "print (df.head(10),'\\n',df.shape)"
   ]
  },
  {
   "cell_type": "markdown",
   "metadata": {
    "scrolled": true
   },
   "source": [
    "#Добавление наблюдателя\n",
    "watcher_id = 5602\n",
    "watchers = {}\n",
    "for i in tqdm(range(df.shape[0])):\n",
    "    watchers['task']=str(int(df['task'][i]))\n",
    "    watchers['user']=watcher_id\n",
    "    r = requests.post('https://repka.biocad.ru/api/v1/task-watchers/',\n",
    "    json=watchers, headers = {'Authorization': 'Token ' + login_token})\n",
    "    \n"
   ]
  },
  {
   "cell_type": "markdown",
   "metadata": {},
   "source": [
    "#Ссылки для теста\n",
    "i=0\n",
    "for task in range(df.shape[0]):\n",
    "    r = 'https://repka.biocad.ru/api/v1/tasks/' + str(df['task'][i]) + '/'\n",
    "    i+=1\n",
    "    print (r)"
   ]
  },
  {
   "cell_type": "markdown",
   "metadata": {},
   "source": [
    "# Создание задач на пользователей из xlsx"
   ]
  },
  {
   "cell_type": "code",
   "execution_count": 191,
   "metadata": {},
   "outputs": [
    {
     "data": {
      "text/html": [
       "<div>\n",
       "<style scoped>\n",
       "    .dataframe tbody tr th:only-of-type {\n",
       "        vertical-align: middle;\n",
       "    }\n",
       "\n",
       "    .dataframe tbody tr th {\n",
       "        vertical-align: top;\n",
       "    }\n",
       "\n",
       "    .dataframe thead th {\n",
       "        text-align: right;\n",
       "    }\n",
       "</style>\n",
       "<table border=\"1\" class=\"dataframe\">\n",
       "  <thead>\n",
       "    <tr style=\"text-align: right;\">\n",
       "      <th></th>\n",
       "      <th>bkb_id</th>\n",
       "    </tr>\n",
       "  </thead>\n",
       "  <tbody>\n",
       "    <tr>\n",
       "      <th>0</th>\n",
       "      <td>5445</td>\n",
       "    </tr>\n",
       "    <tr>\n",
       "      <th>1</th>\n",
       "      <td>5349</td>\n",
       "    </tr>\n",
       "    <tr>\n",
       "      <th>2</th>\n",
       "      <td>5036</td>\n",
       "    </tr>\n",
       "    <tr>\n",
       "      <th>3</th>\n",
       "      <td>4311</td>\n",
       "    </tr>\n",
       "    <tr>\n",
       "      <th>4</th>\n",
       "      <td>4764</td>\n",
       "    </tr>\n",
       "  </tbody>\n",
       "</table>\n",
       "</div>"
      ],
      "text/plain": [
       "   bkb_id\n",
       "0    5445\n",
       "1    5349\n",
       "2    5036\n",
       "3    4311\n",
       "4    4764"
      ]
     },
     "execution_count": 191,
     "metadata": {},
     "output_type": "execute_result"
    }
   ],
   "source": [
    "#Подгрузка логинов из xlxs\n",
    "df1=pd.read_excel('Сотрудники без плана развития.xlsx')\n",
    "x=''\n",
    "for n in range(df.shape[0]):\n",
    "    x+='\"'\n",
    "    x+=df.Name[n]\n",
    "    x+='\",'\n",
    "    \n",
    "request = 'with ['+x[0:-1]+'] as names match (a:UserNode) where a.name in names return a.bkb_id as bkb_id'\n",
    "df2 = graph.run(request).to_data_frame()\n",
    "df2[0:5]\n"
   ]
  },
  {
   "cell_type": "code",
   "execution_count": 201,
   "metadata": {},
   "outputs": [
    {
     "name": "stdout",
     "output_type": "stream",
     "text": [
      "{'name': 'TaskName', 'description': 'TaskDescription', 'deadline': '2019-06-01', 'client_username': 'amosov', 'task_template': 11831, 'assigned_to': 5445, 'priority': 400, 'status': 'NEW', 'external_url': 'https://bims-test.biocad.ru'}\n",
      "{'name': 'TaskName', 'description': 'TaskDescription', 'deadline': '2019-06-01', 'client_username': 'amosov', 'task_template': 11831, 'assigned_to': 5349, 'priority': 400, 'status': 'NEW', 'external_url': 'https://bims-test.biocad.ru'}\n",
      "{'name': 'TaskName', 'description': 'TaskDescription', 'deadline': '2019-06-01', 'client_username': 'amosov', 'task_template': 11831, 'assigned_to': 5036, 'priority': 400, 'status': 'NEW', 'external_url': 'https://bims-test.biocad.ru'}\n",
      "{'name': 'TaskName', 'description': 'TaskDescription', 'deadline': '2019-06-01', 'client_username': 'amosov', 'task_template': 11831, 'assigned_to': 4311, 'priority': 400, 'status': 'NEW', 'external_url': 'https://bims-test.biocad.ru'}\n",
      "{'name': 'TaskName', 'description': 'TaskDescription', 'deadline': '2019-06-01', 'client_username': 'amosov', 'task_template': 11831, 'assigned_to': 4764, 'priority': 400, 'status': 'NEW', 'external_url': 'https://bims-test.biocad.ru'}\n",
      "{'name': 'TaskName', 'description': 'TaskDescription', 'deadline': '2019-06-01', 'client_username': 'amosov', 'task_template': 11831, 'assigned_to': 3763, 'priority': 400, 'status': 'NEW', 'external_url': 'https://bims-test.biocad.ru'}\n",
      "{'name': 'TaskName', 'description': 'TaskDescription', 'deadline': '2019-06-01', 'client_username': 'amosov', 'task_template': 11831, 'assigned_to': 5098, 'priority': 400, 'status': 'NEW', 'external_url': 'https://bims-test.biocad.ru'}\n",
      "{'name': 'TaskName', 'description': 'TaskDescription', 'deadline': '2019-06-01', 'client_username': 'amosov', 'task_template': 11831, 'assigned_to': 5099, 'priority': 400, 'status': 'NEW', 'external_url': 'https://bims-test.biocad.ru'}\n",
      "{'name': 'TaskName', 'description': 'TaskDescription', 'deadline': '2019-06-01', 'client_username': 'amosov', 'task_template': 11831, 'assigned_to': 5012, 'priority': 400, 'status': 'NEW', 'external_url': 'https://bims-test.biocad.ru'}\n",
      "{'name': 'TaskName', 'description': 'TaskDescription', 'deadline': '2019-06-01', 'client_username': 'amosov', 'task_template': 11831, 'assigned_to': 4280, 'priority': 400, 'status': 'NEW', 'external_url': 'https://bims-test.biocad.ru'}\n",
      "{'name': 'TaskName', 'description': 'TaskDescription', 'deadline': '2019-06-01', 'client_username': 'amosov', 'task_template': 11831, 'assigned_to': 4212, 'priority': 400, 'status': 'NEW', 'external_url': 'https://bims-test.biocad.ru'}\n",
      "{'name': 'TaskName', 'description': 'TaskDescription', 'deadline': '2019-06-01', 'client_username': 'amosov', 'task_template': 11831, 'assigned_to': 4766, 'priority': 400, 'status': 'NEW', 'external_url': 'https://bims-test.biocad.ru'}\n",
      "{'name': 'TaskName', 'description': 'TaskDescription', 'deadline': '2019-06-01', 'client_username': 'amosov', 'task_template': 11831, 'assigned_to': 4289, 'priority': 400, 'status': 'NEW', 'external_url': 'https://bims-test.biocad.ru'}\n",
      "{'name': 'TaskName', 'description': 'TaskDescription', 'deadline': '2019-06-01', 'client_username': 'amosov', 'task_template': 11831, 'assigned_to': 4288, 'priority': 400, 'status': 'NEW', 'external_url': 'https://bims-test.biocad.ru'}\n",
      "{'name': 'TaskName', 'description': 'TaskDescription', 'deadline': '2019-06-01', 'client_username': 'amosov', 'task_template': 11831, 'assigned_to': 4309, 'priority': 400, 'status': 'NEW', 'external_url': 'https://bims-test.biocad.ru'}\n",
      "{'name': 'TaskName', 'description': 'TaskDescription', 'deadline': '2019-06-01', 'client_username': 'amosov', 'task_template': 11831, 'assigned_to': 4317, 'priority': 400, 'status': 'NEW', 'external_url': 'https://bims-test.biocad.ru'}\n",
      "{'name': 'TaskName', 'description': 'TaskDescription', 'deadline': '2019-06-01', 'client_username': 'amosov', 'task_template': 11831, 'assigned_to': 4296, 'priority': 400, 'status': 'NEW', 'external_url': 'https://bims-test.biocad.ru'}\n",
      "{'name': 'TaskName', 'description': 'TaskDescription', 'deadline': '2019-06-01', 'client_username': 'amosov', 'task_template': 11831, 'assigned_to': 4294, 'priority': 400, 'status': 'NEW', 'external_url': 'https://bims-test.biocad.ru'}\n",
      "{'name': 'TaskName', 'description': 'TaskDescription', 'deadline': '2019-06-01', 'client_username': 'amosov', 'task_template': 11831, 'assigned_to': 4965, 'priority': 400, 'status': 'NEW', 'external_url': 'https://bims-test.biocad.ru'}\n",
      "{'name': 'TaskName', 'description': 'TaskDescription', 'deadline': '2019-06-01', 'client_username': 'amosov', 'task_template': 11831, 'assigned_to': 3678, 'priority': 400, 'status': 'NEW', 'external_url': 'https://bims-test.biocad.ru'}\n",
      "{'name': 'TaskName', 'description': 'TaskDescription', 'deadline': '2019-06-01', 'client_username': 'amosov', 'task_template': 11831, 'assigned_to': 5331, 'priority': 400, 'status': 'NEW', 'external_url': 'https://bims-test.biocad.ru'}\n",
      "{'name': 'TaskName', 'description': 'TaskDescription', 'deadline': '2019-06-01', 'client_username': 'amosov', 'task_template': 11831, 'assigned_to': 4293, 'priority': 400, 'status': 'NEW', 'external_url': 'https://bims-test.biocad.ru'}\n",
      "{'name': 'TaskName', 'description': 'TaskDescription', 'deadline': '2019-06-01', 'client_username': 'amosov', 'task_template': 11831, 'assigned_to': 4282, 'priority': 400, 'status': 'NEW', 'external_url': 'https://bims-test.biocad.ru'}\n",
      "{'name': 'TaskName', 'description': 'TaskDescription', 'deadline': '2019-06-01', 'client_username': 'amosov', 'task_template': 11831, 'assigned_to': 4314, 'priority': 400, 'status': 'NEW', 'external_url': 'https://bims-test.biocad.ru'}\n",
      "{'name': 'TaskName', 'description': 'TaskDescription', 'deadline': '2019-06-01', 'client_username': 'amosov', 'task_template': 11831, 'assigned_to': 4284, 'priority': 400, 'status': 'NEW', 'external_url': 'https://bims-test.biocad.ru'}\n",
      "{'name': 'TaskName', 'description': 'TaskDescription', 'deadline': '2019-06-01', 'client_username': 'amosov', 'task_template': 11831, 'assigned_to': 4307, 'priority': 400, 'status': 'NEW', 'external_url': 'https://bims-test.biocad.ru'}\n",
      "{'name': 'TaskName', 'description': 'TaskDescription', 'deadline': '2019-06-01', 'client_username': 'amosov', 'task_template': 11831, 'assigned_to': 4315, 'priority': 400, 'status': 'NEW', 'external_url': 'https://bims-test.biocad.ru'}\n",
      "{'name': 'TaskName', 'description': 'TaskDescription', 'deadline': '2019-06-01', 'client_username': 'amosov', 'task_template': 11831, 'assigned_to': 4306, 'priority': 400, 'status': 'NEW', 'external_url': 'https://bims-test.biocad.ru'}\n",
      "{'name': 'TaskName', 'description': 'TaskDescription', 'deadline': '2019-06-01', 'client_username': 'amosov', 'task_template': 11831, 'assigned_to': 4765, 'priority': 400, 'status': 'NEW', 'external_url': 'https://bims-test.biocad.ru'}\n",
      "{'name': 'TaskName', 'description': 'TaskDescription', 'deadline': '2019-06-01', 'client_username': 'amosov', 'task_template': 11831, 'assigned_to': 4651, 'priority': 400, 'status': 'NEW', 'external_url': 'https://bims-test.biocad.ru'}\n",
      "{'name': 'TaskName', 'description': 'TaskDescription', 'deadline': '2019-06-01', 'client_username': 'amosov', 'task_template': 11831, 'assigned_to': 4761, 'priority': 400, 'status': 'NEW', 'external_url': 'https://bims-test.biocad.ru'}\n",
      "{'name': 'TaskName', 'description': 'TaskDescription', 'deadline': '2019-06-01', 'client_username': 'amosov', 'task_template': 11831, 'assigned_to': 5317, 'priority': 400, 'status': 'NEW', 'external_url': 'https://bims-test.biocad.ru'}\n",
      "{'name': 'TaskName', 'description': 'TaskDescription', 'deadline': '2019-06-01', 'client_username': 'amosov', 'task_template': 11831, 'assigned_to': 4305, 'priority': 400, 'status': 'NEW', 'external_url': 'https://bims-test.biocad.ru'}\n",
      "{'name': 'TaskName', 'description': 'TaskDescription', 'deadline': '2019-06-01', 'client_username': 'amosov', 'task_template': 11831, 'assigned_to': 4308, 'priority': 400, 'status': 'NEW', 'external_url': 'https://bims-test.biocad.ru'}\n",
      "{'name': 'TaskName', 'description': 'TaskDescription', 'deadline': '2019-06-01', 'client_username': 'amosov', 'task_template': 11831, 'assigned_to': 4762, 'priority': 400, 'status': 'NEW', 'external_url': 'https://bims-test.biocad.ru'}\n",
      "{'name': 'TaskName', 'description': 'TaskDescription', 'deadline': '2019-06-01', 'client_username': 'amosov', 'task_template': 11831, 'assigned_to': 4931, 'priority': 400, 'status': 'NEW', 'external_url': 'https://bims-test.biocad.ru'}\n",
      "{'name': 'TaskName', 'description': 'TaskDescription', 'deadline': '2019-06-01', 'client_username': 'amosov', 'task_template': 11831, 'assigned_to': 3380, 'priority': 400, 'status': 'NEW', 'external_url': 'https://bims-test.biocad.ru'}\n",
      "{'name': 'TaskName', 'description': 'TaskDescription', 'deadline': '2019-06-01', 'client_username': 'amosov', 'task_template': 11831, 'assigned_to': 4969, 'priority': 400, 'status': 'NEW', 'external_url': 'https://bims-test.biocad.ru'}\n",
      "{'name': 'TaskName', 'description': 'TaskDescription', 'deadline': '2019-06-01', 'client_username': 'amosov', 'task_template': 11831, 'assigned_to': 5343, 'priority': 400, 'status': 'NEW', 'external_url': 'https://bims-test.biocad.ru'}\n",
      "{'name': 'TaskName', 'description': 'TaskDescription', 'deadline': '2019-06-01', 'client_username': 'amosov', 'task_template': 11831, 'assigned_to': 4716, 'priority': 400, 'status': 'NEW', 'external_url': 'https://bims-test.biocad.ru'}\n",
      "{'name': 'TaskName', 'description': 'TaskDescription', 'deadline': '2019-06-01', 'client_username': 'amosov', 'task_template': 11831, 'assigned_to': 4384, 'priority': 400, 'status': 'NEW', 'external_url': 'https://bims-test.biocad.ru'}\n",
      "{'name': 'TaskName', 'description': 'TaskDescription', 'deadline': '2019-06-01', 'client_username': 'amosov', 'task_template': 11831, 'assigned_to': 3365, 'priority': 400, 'status': 'NEW', 'external_url': 'https://bims-test.biocad.ru'}\n",
      "{'name': 'TaskName', 'description': 'TaskDescription', 'deadline': '2019-06-01', 'client_username': 'amosov', 'task_template': 11831, 'assigned_to': 6004, 'priority': 400, 'status': 'NEW', 'external_url': 'https://bims-test.biocad.ru'}\n",
      "{'name': 'TaskName', 'description': 'TaskDescription', 'deadline': '2019-06-01', 'client_username': 'amosov', 'task_template': 11831, 'assigned_to': 5812, 'priority': 400, 'status': 'NEW', 'external_url': 'https://bims-test.biocad.ru'}\n",
      "{'name': 'TaskName', 'description': 'TaskDescription', 'deadline': '2019-06-01', 'client_username': 'amosov', 'task_template': 11831, 'assigned_to': 5967, 'priority': 400, 'status': 'NEW', 'external_url': 'https://bims-test.biocad.ru'}\n",
      "{'name': 'TaskName', 'description': 'TaskDescription', 'deadline': '2019-06-01', 'client_username': 'amosov', 'task_template': 11831, 'assigned_to': 6179, 'priority': 400, 'status': 'NEW', 'external_url': 'https://bims-test.biocad.ru'}\n",
      "{'name': 'TaskName', 'description': 'TaskDescription', 'deadline': '2019-06-01', 'client_username': 'amosov', 'task_template': 11831, 'assigned_to': 6181, 'priority': 400, 'status': 'NEW', 'external_url': 'https://bims-test.biocad.ru'}\n",
      "{'name': 'TaskName', 'description': 'TaskDescription', 'deadline': '2019-06-01', 'client_username': 'amosov', 'task_template': 11831, 'assigned_to': 6182, 'priority': 400, 'status': 'NEW', 'external_url': 'https://bims-test.biocad.ru'}\n",
      "{'name': 'TaskName', 'description': 'TaskDescription', 'deadline': '2019-06-01', 'client_username': 'amosov', 'task_template': 11831, 'assigned_to': 6187, 'priority': 400, 'status': 'NEW', 'external_url': 'https://bims-test.biocad.ru'}\n",
      "{'name': 'TaskName', 'description': 'TaskDescription', 'deadline': '2019-06-01', 'client_username': 'amosov', 'task_template': 11831, 'assigned_to': 6222, 'priority': 400, 'status': 'NEW', 'external_url': 'https://bims-test.biocad.ru'}\n",
      "{'name': 'TaskName', 'description': 'TaskDescription', 'deadline': '2019-06-01', 'client_username': 'amosov', 'task_template': 11831, 'assigned_to': 6224, 'priority': 400, 'status': 'NEW', 'external_url': 'https://bims-test.biocad.ru'}\n",
      "{'name': 'TaskName', 'description': 'TaskDescription', 'deadline': '2019-06-01', 'client_username': 'amosov', 'task_template': 11831, 'assigned_to': 6270, 'priority': 400, 'status': 'NEW', 'external_url': 'https://bims-test.biocad.ru'}\n",
      "{'name': 'TaskName', 'description': 'TaskDescription', 'deadline': '2019-06-01', 'client_username': 'amosov', 'task_template': 11831, 'assigned_to': 6283, 'priority': 400, 'status': 'NEW', 'external_url': 'https://bims-test.biocad.ru'}\n",
      "{'name': 'TaskName', 'description': 'TaskDescription', 'deadline': '2019-06-01', 'client_username': 'amosov', 'task_template': 11831, 'assigned_to': 6410, 'priority': 400, 'status': 'NEW', 'external_url': 'https://bims-test.biocad.ru'}\n",
      "{'name': 'TaskName', 'description': 'TaskDescription', 'deadline': '2019-06-01', 'client_username': 'amosov', 'task_template': 11831, 'assigned_to': 6362, 'priority': 400, 'status': 'NEW', 'external_url': 'https://bims-test.biocad.ru'}\n",
      "{'name': 'TaskName', 'description': 'TaskDescription', 'deadline': '2019-06-01', 'client_username': 'amosov', 'task_template': 11831, 'assigned_to': 6384, 'priority': 400, 'status': 'NEW', 'external_url': 'https://bims-test.biocad.ru'}\n",
      "{'name': 'TaskName', 'description': 'TaskDescription', 'deadline': '2019-06-01', 'client_username': 'amosov', 'task_template': 11831, 'assigned_to': 6469, 'priority': 400, 'status': 'NEW', 'external_url': 'https://bims-test.biocad.ru'}\n",
      "{'name': 'TaskName', 'description': 'TaskDescription', 'deadline': '2019-06-01', 'client_username': 'amosov', 'task_template': 11831, 'assigned_to': 6504, 'priority': 400, 'status': 'NEW', 'external_url': 'https://bims-test.biocad.ru'}\n",
      "{'name': 'TaskName', 'description': 'TaskDescription', 'deadline': '2019-06-01', 'client_username': 'amosov', 'task_template': 11831, 'assigned_to': 6505, 'priority': 400, 'status': 'NEW', 'external_url': 'https://bims-test.biocad.ru'}\n",
      "{'name': 'TaskName', 'description': 'TaskDescription', 'deadline': '2019-06-01', 'client_username': 'amosov', 'task_template': 11831, 'assigned_to': 6506, 'priority': 400, 'status': 'NEW', 'external_url': 'https://bims-test.biocad.ru'}\n",
      "{'name': 'TaskName', 'description': 'TaskDescription', 'deadline': '2019-06-01', 'client_username': 'amosov', 'task_template': 11831, 'assigned_to': 6508, 'priority': 400, 'status': 'NEW', 'external_url': 'https://bims-test.biocad.ru'}\n",
      "{'name': 'TaskName', 'description': 'TaskDescription', 'deadline': '2019-06-01', 'client_username': 'amosov', 'task_template': 11831, 'assigned_to': 6509, 'priority': 400, 'status': 'NEW', 'external_url': 'https://bims-test.biocad.ru'}\n",
      "{'name': 'TaskName', 'description': 'TaskDescription', 'deadline': '2019-06-01', 'client_username': 'amosov', 'task_template': 11831, 'assigned_to': 6510, 'priority': 400, 'status': 'NEW', 'external_url': 'https://bims-test.biocad.ru'}\n",
      "{'name': 'TaskName', 'description': 'TaskDescription', 'deadline': '2019-06-01', 'client_username': 'amosov', 'task_template': 11831, 'assigned_to': 6522, 'priority': 400, 'status': 'NEW', 'external_url': 'https://bims-test.biocad.ru'}\n",
      "{'name': 'TaskName', 'description': 'TaskDescription', 'deadline': '2019-06-01', 'client_username': 'amosov', 'task_template': 11831, 'assigned_to': 6523, 'priority': 400, 'status': 'NEW', 'external_url': 'https://bims-test.biocad.ru'}\n",
      "{'name': 'TaskName', 'description': 'TaskDescription', 'deadline': '2019-06-01', 'client_username': 'amosov', 'task_template': 11831, 'assigned_to': 6513, 'priority': 400, 'status': 'NEW', 'external_url': 'https://bims-test.biocad.ru'}\n",
      "{'name': 'TaskName', 'description': 'TaskDescription', 'deadline': '2019-06-01', 'client_username': 'amosov', 'task_template': 11831, 'assigned_to': 6515, 'priority': 400, 'status': 'NEW', 'external_url': 'https://bims-test.biocad.ru'}\n",
      "{'name': 'TaskName', 'description': 'TaskDescription', 'deadline': '2019-06-01', 'client_username': 'amosov', 'task_template': 11831, 'assigned_to': 6517, 'priority': 400, 'status': 'NEW', 'external_url': 'https://bims-test.biocad.ru'}\n",
      "{'name': 'TaskName', 'description': 'TaskDescription', 'deadline': '2019-06-01', 'client_username': 'amosov', 'task_template': 11831, 'assigned_to': 6518, 'priority': 400, 'status': 'NEW', 'external_url': 'https://bims-test.biocad.ru'}\n",
      "{'name': 'TaskName', 'description': 'TaskDescription', 'deadline': '2019-06-01', 'client_username': 'amosov', 'task_template': 11831, 'assigned_to': 6519, 'priority': 400, 'status': 'NEW', 'external_url': 'https://bims-test.biocad.ru'}\n",
      "{'name': 'TaskName', 'description': 'TaskDescription', 'deadline': '2019-06-01', 'client_username': 'amosov', 'task_template': 11831, 'assigned_to': 6524, 'priority': 400, 'status': 'NEW', 'external_url': 'https://bims-test.biocad.ru'}\n",
      "{'name': 'TaskName', 'description': 'TaskDescription', 'deadline': '2019-06-01', 'client_username': 'amosov', 'task_template': 11831, 'assigned_to': 6525, 'priority': 400, 'status': 'NEW', 'external_url': 'https://bims-test.biocad.ru'}\n",
      "{'name': 'TaskName', 'description': 'TaskDescription', 'deadline': '2019-06-01', 'client_username': 'amosov', 'task_template': 11831, 'assigned_to': 6527, 'priority': 400, 'status': 'NEW', 'external_url': 'https://bims-test.biocad.ru'}\n",
      "{'name': 'TaskName', 'description': 'TaskDescription', 'deadline': '2019-06-01', 'client_username': 'amosov', 'task_template': 11831, 'assigned_to': 6528, 'priority': 400, 'status': 'NEW', 'external_url': 'https://bims-test.biocad.ru'}\n",
      "{'name': 'TaskName', 'description': 'TaskDescription', 'deadline': '2019-06-01', 'client_username': 'amosov', 'task_template': 11831, 'assigned_to': 6532, 'priority': 400, 'status': 'NEW', 'external_url': 'https://bims-test.biocad.ru'}\n",
      "{'name': 'TaskName', 'description': 'TaskDescription', 'deadline': '2019-06-01', 'client_username': 'amosov', 'task_template': 11831, 'assigned_to': 6538, 'priority': 400, 'status': 'NEW', 'external_url': 'https://bims-test.biocad.ru'}\n",
      "{'name': 'TaskName', 'description': 'TaskDescription', 'deadline': '2019-06-01', 'client_username': 'amosov', 'task_template': 11831, 'assigned_to': 6541, 'priority': 400, 'status': 'NEW', 'external_url': 'https://bims-test.biocad.ru'}\n",
      "{'name': 'TaskName', 'description': 'TaskDescription', 'deadline': '2019-06-01', 'client_username': 'amosov', 'task_template': 11831, 'assigned_to': 6588, 'priority': 400, 'status': 'NEW', 'external_url': 'https://bims-test.biocad.ru'}\n",
      "{'name': 'TaskName', 'description': 'TaskDescription', 'deadline': '2019-06-01', 'client_username': 'amosov', 'task_template': 11831, 'assigned_to': 6557, 'priority': 400, 'status': 'NEW', 'external_url': 'https://bims-test.biocad.ru'}\n",
      "{'name': 'TaskName', 'description': 'TaskDescription', 'deadline': '2019-06-01', 'client_username': 'amosov', 'task_template': 11831, 'assigned_to': 6559, 'priority': 400, 'status': 'NEW', 'external_url': 'https://bims-test.biocad.ru'}\n",
      "{'name': 'TaskName', 'description': 'TaskDescription', 'deadline': '2019-06-01', 'client_username': 'amosov', 'task_template': 11831, 'assigned_to': 6565, 'priority': 400, 'status': 'NEW', 'external_url': 'https://bims-test.biocad.ru'}\n",
      "{'name': 'TaskName', 'description': 'TaskDescription', 'deadline': '2019-06-01', 'client_username': 'amosov', 'task_template': 11831, 'assigned_to': 6590, 'priority': 400, 'status': 'NEW', 'external_url': 'https://bims-test.biocad.ru'}\n",
      "{'name': 'TaskName', 'description': 'TaskDescription', 'deadline': '2019-06-01', 'client_username': 'amosov', 'task_template': 11831, 'assigned_to': 6591, 'priority': 400, 'status': 'NEW', 'external_url': 'https://bims-test.biocad.ru'}\n",
      "{'name': 'TaskName', 'description': 'TaskDescription', 'deadline': '2019-06-01', 'client_username': 'amosov', 'task_template': 11831, 'assigned_to': 6602, 'priority': 400, 'status': 'NEW', 'external_url': 'https://bims-test.biocad.ru'}\n",
      "{'name': 'TaskName', 'description': 'TaskDescription', 'deadline': '2019-06-01', 'client_username': 'amosov', 'task_template': 11831, 'assigned_to': 6610, 'priority': 400, 'status': 'NEW', 'external_url': 'https://bims-test.biocad.ru'}\n",
      "{'name': 'TaskName', 'description': 'TaskDescription', 'deadline': '2019-06-01', 'client_username': 'amosov', 'task_template': 11831, 'assigned_to': 6620, 'priority': 400, 'status': 'NEW', 'external_url': 'https://bims-test.biocad.ru'}\n",
      "{'name': 'TaskName', 'description': 'TaskDescription', 'deadline': '2019-06-01', 'client_username': 'amosov', 'task_template': 11831, 'assigned_to': 6622, 'priority': 400, 'status': 'NEW', 'external_url': 'https://bims-test.biocad.ru'}\n",
      "{'name': 'TaskName', 'description': 'TaskDescription', 'deadline': '2019-06-01', 'client_username': 'amosov', 'task_template': 11831, 'assigned_to': 6623, 'priority': 400, 'status': 'NEW', 'external_url': 'https://bims-test.biocad.ru'}\n",
      "{'name': 'TaskName', 'description': 'TaskDescription', 'deadline': '2019-06-01', 'client_username': 'amosov', 'task_template': 11831, 'assigned_to': 6626, 'priority': 400, 'status': 'NEW', 'external_url': 'https://bims-test.biocad.ru'}\n",
      "{'name': 'TaskName', 'description': 'TaskDescription', 'deadline': '2019-06-01', 'client_username': 'amosov', 'task_template': 11831, 'assigned_to': 6638, 'priority': 400, 'status': 'NEW', 'external_url': 'https://bims-test.biocad.ru'}\n",
      "{'name': 'TaskName', 'description': 'TaskDescription', 'deadline': '2019-06-01', 'client_username': 'amosov', 'task_template': 11831, 'assigned_to': 6639, 'priority': 400, 'status': 'NEW', 'external_url': 'https://bims-test.biocad.ru'}\n",
      "{'name': 'TaskName', 'description': 'TaskDescription', 'deadline': '2019-06-01', 'client_username': 'amosov', 'task_template': 11831, 'assigned_to': 6640, 'priority': 400, 'status': 'NEW', 'external_url': 'https://bims-test.biocad.ru'}\n",
      "{'name': 'TaskName', 'description': 'TaskDescription', 'deadline': '2019-06-01', 'client_username': 'amosov', 'task_template': 11831, 'assigned_to': 6643, 'priority': 400, 'status': 'NEW', 'external_url': 'https://bims-test.biocad.ru'}\n",
      "{'name': 'TaskName', 'description': 'TaskDescription', 'deadline': '2019-06-01', 'client_username': 'amosov', 'task_template': 11831, 'assigned_to': 6660, 'priority': 400, 'status': 'NEW', 'external_url': 'https://bims-test.biocad.ru'}\n",
      "{'name': 'TaskName', 'description': 'TaskDescription', 'deadline': '2019-06-01', 'client_username': 'amosov', 'task_template': 11831, 'assigned_to': 6663, 'priority': 400, 'status': 'NEW', 'external_url': 'https://bims-test.biocad.ru'}\n",
      "{'name': 'TaskName', 'description': 'TaskDescription', 'deadline': '2019-06-01', 'client_username': 'amosov', 'task_template': 11831, 'assigned_to': 6667, 'priority': 400, 'status': 'NEW', 'external_url': 'https://bims-test.biocad.ru'}\n",
      "{'name': 'TaskName', 'description': 'TaskDescription', 'deadline': '2019-06-01', 'client_username': 'amosov', 'task_template': 11831, 'assigned_to': 6661, 'priority': 400, 'status': 'NEW', 'external_url': 'https://bims-test.biocad.ru'}\n",
      "{'name': 'TaskName', 'description': 'TaskDescription', 'deadline': '2019-06-01', 'client_username': 'amosov', 'task_template': 11831, 'assigned_to': 6852, 'priority': 400, 'status': 'NEW', 'external_url': 'https://bims-test.biocad.ru'}\n",
      "{'name': 'TaskName', 'description': 'TaskDescription', 'deadline': '2019-06-01', 'client_username': 'amosov', 'task_template': 11831, 'assigned_to': 6683, 'priority': 400, 'status': 'NEW', 'external_url': 'https://bims-test.biocad.ru'}\n",
      "{'name': 'TaskName', 'description': 'TaskDescription', 'deadline': '2019-06-01', 'client_username': 'amosov', 'task_template': 11831, 'assigned_to': 6687, 'priority': 400, 'status': 'NEW', 'external_url': 'https://bims-test.biocad.ru'}\n",
      "{'name': 'TaskName', 'description': 'TaskDescription', 'deadline': '2019-06-01', 'client_username': 'amosov', 'task_template': 11831, 'assigned_to': 6692, 'priority': 400, 'status': 'NEW', 'external_url': 'https://bims-test.biocad.ru'}\n",
      "{'name': 'TaskName', 'description': 'TaskDescription', 'deadline': '2019-06-01', 'client_username': 'amosov', 'task_template': 11831, 'assigned_to': 6694, 'priority': 400, 'status': 'NEW', 'external_url': 'https://bims-test.biocad.ru'}\n",
      "{'name': 'TaskName', 'description': 'TaskDescription', 'deadline': '2019-06-01', 'client_username': 'amosov', 'task_template': 11831, 'assigned_to': 6695, 'priority': 400, 'status': 'NEW', 'external_url': 'https://bims-test.biocad.ru'}\n",
      "{'name': 'TaskName', 'description': 'TaskDescription', 'deadline': '2019-06-01', 'client_username': 'amosov', 'task_template': 11831, 'assigned_to': 6696, 'priority': 400, 'status': 'NEW', 'external_url': 'https://bims-test.biocad.ru'}\n",
      "{'name': 'TaskName', 'description': 'TaskDescription', 'deadline': '2019-06-01', 'client_username': 'amosov', 'task_template': 11831, 'assigned_to': 6808, 'priority': 400, 'status': 'NEW', 'external_url': 'https://bims-test.biocad.ru'}\n",
      "{'name': 'TaskName', 'description': 'TaskDescription', 'deadline': '2019-06-01', 'client_username': 'amosov', 'task_template': 11831, 'assigned_to': 6725, 'priority': 400, 'status': 'NEW', 'external_url': 'https://bims-test.biocad.ru'}\n",
      "{'name': 'TaskName', 'description': 'TaskDescription', 'deadline': '2019-06-01', 'client_username': 'amosov', 'task_template': 11831, 'assigned_to': 6727, 'priority': 400, 'status': 'NEW', 'external_url': 'https://bims-test.biocad.ru'}\n",
      "{'name': 'TaskName', 'description': 'TaskDescription', 'deadline': '2019-06-01', 'client_username': 'amosov', 'task_template': 11831, 'assigned_to': 6728, 'priority': 400, 'status': 'NEW', 'external_url': 'https://bims-test.biocad.ru'}\n",
      "{'name': 'TaskName', 'description': 'TaskDescription', 'deadline': '2019-06-01', 'client_username': 'amosov', 'task_template': 11831, 'assigned_to': 6742, 'priority': 400, 'status': 'NEW', 'external_url': 'https://bims-test.biocad.ru'}\n",
      "{'name': 'TaskName', 'description': 'TaskDescription', 'deadline': '2019-06-01', 'client_username': 'amosov', 'task_template': 11831, 'assigned_to': 6746, 'priority': 400, 'status': 'NEW', 'external_url': 'https://bims-test.biocad.ru'}\n",
      "{'name': 'TaskName', 'description': 'TaskDescription', 'deadline': '2019-06-01', 'client_username': 'amosov', 'task_template': 11831, 'assigned_to': 6849, 'priority': 400, 'status': 'NEW', 'external_url': 'https://bims-test.biocad.ru'}\n",
      "{'name': 'TaskName', 'description': 'TaskDescription', 'deadline': '2019-06-01', 'client_username': 'amosov', 'task_template': 11831, 'assigned_to': 6776, 'priority': 400, 'status': 'NEW', 'external_url': 'https://bims-test.biocad.ru'}\n",
      "{'name': 'TaskName', 'description': 'TaskDescription', 'deadline': '2019-06-01', 'client_username': 'amosov', 'task_template': 11831, 'assigned_to': 6786, 'priority': 400, 'status': 'NEW', 'external_url': 'https://bims-test.biocad.ru'}\n",
      "{'name': 'TaskName', 'description': 'TaskDescription', 'deadline': '2019-06-01', 'client_username': 'amosov', 'task_template': 11831, 'assigned_to': 6791, 'priority': 400, 'status': 'NEW', 'external_url': 'https://bims-test.biocad.ru'}\n",
      "{'name': 'TaskName', 'description': 'TaskDescription', 'deadline': '2019-06-01', 'client_username': 'amosov', 'task_template': 11831, 'assigned_to': 6809, 'priority': 400, 'status': 'NEW', 'external_url': 'https://bims-test.biocad.ru'}\n",
      "{'name': 'TaskName', 'description': 'TaskDescription', 'deadline': '2019-06-01', 'client_username': 'amosov', 'task_template': 11831, 'assigned_to': 6866, 'priority': 400, 'status': 'NEW', 'external_url': 'https://bims-test.biocad.ru'}\n"
     ]
    }
   ],
   "source": [
    "#Создание задач из xlsx\n",
    "replaces = {}\n",
    "\n",
    "#Дергаем API\n",
    "for user in range(df2.shape[0]):\n",
    "    replaces['name']='TaskName'\n",
    "    replaces['description']='TaskDescription'\n",
    "    replaces['deadline']='2019-06-01'\n",
    "    replaces['client_username']='amosov'\n",
    "    replaces['task_template']=11831 #Я не могу выбрать\n",
    "    replaces['assigned_to']=df2['bkb_id'][user]\n",
    "    replaces['priority']=400\n",
    "    replaces['status']='NEW'\n",
    "    #replaces['external_url']='https://bims-test.biocad.ru'\n",
    "    #r = requests.post('https://repka.biocad.ru/api/v1/tasks/',\n",
    "                       #json=replaces, headers = {'Authorization': 'Token ' + login_token})\n",
    "    print(replaces)  \n",
    "#r.status_code"
   ]
  },
  {
   "cell_type": "code",
   "execution_count": 8,
   "metadata": {},
   "outputs": [],
   "source": [
    "bims_tasks=graph.run(\"\"\"\n",
    "match (a:TaskNode) where a.creator_name contains 'BIMS' and exists(a.external_url) \n",
    "and not a.status=\"READY\" and not a.status='DISCARD' and not a.status='ARCHIVED'\n",
    "return distinct a.bkb_id as id, a.name as name, a.task_template_name as TT, \n",
    "a.team_name as Team, a.user_name as User, a.status as Status\n",
    "\"\"\").to_data_frame()\n",
    "bims_tasks.to_excel('BIMS_Tasks.xlsx')"
   ]
  },
  {
   "cell_type": "code",
   "execution_count": 64,
   "metadata": {
    "scrolled": true
   },
   "outputs": [
    {
     "name": "stdout",
     "output_type": "stream",
     "text": [
      "0/358  https://repka.biocad.ru/api/v1/tasks/733825/ {'parent': '733824'} 200\n",
      "1/358  https://repka.biocad.ru/api/v1/tasks/733826/ {'parent': '733824'} 200\n",
      "2/358  https://repka.biocad.ru/api/v1/tasks/733827/ {'parent': '733824'} 200\n",
      "3/358  https://repka.biocad.ru/api/v1/tasks/693370/ {'parent': '691677'} 200\n",
      "4/358  https://repka.biocad.ru/api/v1/tasks/698485/ {'parent': '691677'} 200\n",
      "5/358  https://repka.biocad.ru/api/v1/tasks/695012/ {'parent': '691677'} 200\n",
      "6/358  https://repka.biocad.ru/api/v1/tasks/693391/ {'parent': '691677'} 200\n",
      "7/358  https://repka.biocad.ru/api/v1/tasks/692147/ {'parent': '691677'} 200\n",
      "8/358  https://repka.biocad.ru/api/v1/tasks/692167/ {'parent': '691677'} 200\n",
      "9/358  https://repka.biocad.ru/api/v1/tasks/692117/ {'parent': '691677'} 200\n",
      "10/358  https://repka.biocad.ru/api/v1/tasks/692096/ {'parent': '691677'} 200\n",
      "11/358  https://repka.biocad.ru/api/v1/tasks/654346/ {'parent': '654343'} 200\n",
      "12/358  https://repka.biocad.ru/api/v1/tasks/501789/ {'parent': '498966'} 200\n",
      "13/358  https://repka.biocad.ru/api/v1/tasks/525671/ {'parent': '397053'} 200\n",
      "14/358  https://repka.biocad.ru/api/v1/tasks/564080/ {'parent': '564079'} 200\n",
      "15/358  https://repka.biocad.ru/api/v1/tasks/564082/ {'parent': '564079'} 200\n",
      "16/358  https://repka.biocad.ru/api/v1/tasks/564081/ {'parent': '564079'} 200\n",
      "17/358  https://repka.biocad.ru/api/v1/tasks/572180/ {'parent': '572178'} 200\n",
      "18/358  https://repka.biocad.ru/api/v1/tasks/572179/ {'parent': '572178'} 200\n",
      "19/358  https://repka.biocad.ru/api/v1/tasks/569125/ {'parent': '569123'} 200\n",
      "20/358  https://repka.biocad.ru/api/v1/tasks/568079/ {'parent': '568076'} 200\n",
      "21/358  https://repka.biocad.ru/api/v1/tasks/568078/ {'parent': '568076'} 200\n",
      "22/358  https://repka.biocad.ru/api/v1/tasks/568077/ {'parent': '568076'} 200\n",
      "23/358  https://repka.biocad.ru/api/v1/tasks/572181/ {'parent': '572178'} 200\n",
      "24/358  https://repka.biocad.ru/api/v1/tasks/569124/ {'parent': '569123'} 200\n",
      "25/358  https://repka.biocad.ru/api/v1/tasks/569126/ {'parent': '569123'} 200\n",
      "26/358  https://repka.biocad.ru/api/v1/tasks/588275/ {'parent': '588274'} 200\n",
      "27/358  https://repka.biocad.ru/api/v1/tasks/588277/ {'parent': '588274'} 200\n",
      "28/358  https://repka.biocad.ru/api/v1/tasks/588276/ {'parent': '588274'} 200\n",
      "29/358  https://repka.biocad.ru/api/v1/tasks/654347/ {'parent': '654343'} 200\n",
      "30/358  https://repka.biocad.ru/api/v1/tasks/654345/ {'parent': '654343'} 200\n",
      "31/358  https://repka.biocad.ru/api/v1/tasks/692132/ {'parent': '691677'} 200\n",
      "32/358  https://repka.biocad.ru/api/v1/tasks/559851/ {'parent': '441742'} 200\n",
      "33/358  https://repka.biocad.ru/api/v1/tasks/774387/ {'parent': '773208'} 200\n",
      "34/358  https://repka.biocad.ru/api/v1/tasks/774398/ {'parent': '773208'} 200\n",
      "35/358  https://repka.biocad.ru/api/v1/tasks/774388/ {'parent': '773208'} 200\n",
      "36/358  https://repka.biocad.ru/api/v1/tasks/775049/ {'parent': '773219'} 200\n",
      "37/358  https://repka.biocad.ru/api/v1/tasks/775486/ {'parent': '774905'} 200\n",
      "38/358  https://repka.biocad.ru/api/v1/tasks/774409/ {'parent': '773208'} 200\n",
      "39/358  https://repka.biocad.ru/api/v1/tasks/775504/ {'parent': '774905'} 200\n",
      "40/358  https://repka.biocad.ru/api/v1/tasks/775481/ {'parent': '774905'} 200\n",
      "41/358  https://repka.biocad.ru/api/v1/tasks/775511/ {'parent': '774905'} 200\n",
      "42/358  https://repka.biocad.ru/api/v1/tasks/775492/ {'parent': '774905'} 200\n",
      "43/358  https://repka.biocad.ru/api/v1/tasks/774412/ {'parent': '773208'} 200\n",
      "44/358  https://repka.biocad.ru/api/v1/tasks/775059/ {'parent': '773219'} 200\n",
      "45/358  https://repka.biocad.ru/api/v1/tasks/774418/ {'parent': '773208'} 200\n",
      "46/358  https://repka.biocad.ru/api/v1/tasks/775508/ {'parent': '774905'} 200\n",
      "47/358  https://repka.biocad.ru/api/v1/tasks/775064/ {'parent': '773219'} 200\n",
      "48/358  https://repka.biocad.ru/api/v1/tasks/774434/ {'parent': '773208'} 200\n",
      "49/358  https://repka.biocad.ru/api/v1/tasks/772754/ {'parent': '765827'} 200\n",
      "50/358  https://repka.biocad.ru/api/v1/tasks/772916/ {'parent': '770167'} 200\n",
      "51/358  https://repka.biocad.ru/api/v1/tasks/772919/ {'parent': '770167'} 200\n",
      "52/358  https://repka.biocad.ru/api/v1/tasks/772915/ {'parent': '770167'} 200\n",
      "53/358  https://repka.biocad.ru/api/v1/tasks/766940/ {'parent': '765827'} 200\n",
      "54/358  https://repka.biocad.ru/api/v1/tasks/772930/ {'parent': '770167'} 200\n",
      "55/358  https://repka.biocad.ru/api/v1/tasks/766948/ {'parent': '765827'} 200\n",
      "56/358  https://repka.biocad.ru/api/v1/tasks/772909/ {'parent': '770167'} 200\n",
      "57/358  https://repka.biocad.ru/api/v1/tasks/766930/ {'parent': '765827'} 200\n",
      "58/358  https://repka.biocad.ru/api/v1/tasks/766972/ {'parent': '765827'} 200\n",
      "59/358  https://repka.biocad.ru/api/v1/tasks/763874/ {'parent': '762370'} 200\n",
      "60/358  https://repka.biocad.ru/api/v1/tasks/756037/ {'parent': '755158'} 200\n",
      "61/358  https://repka.biocad.ru/api/v1/tasks/763894/ {'parent': '762370'} 200\n",
      "62/358  https://repka.biocad.ru/api/v1/tasks/763952/ {'parent': '762382'} 200\n",
      "63/358  https://repka.biocad.ru/api/v1/tasks/763919/ {'parent': '762380'} 200\n",
      "64/358  https://repka.biocad.ru/api/v1/tasks/763872/ {'parent': '762370'} 200\n",
      "65/358  https://repka.biocad.ru/api/v1/tasks/763977/ {'parent': '762382'} 200\n",
      "66/358  https://repka.biocad.ru/api/v1/tasks/763922/ {'parent': '762380'} 200\n",
      "67/358  https://repka.biocad.ru/api/v1/tasks/755993/ {'parent': '755171'} 200\n",
      "68/358  https://repka.biocad.ru/api/v1/tasks/756044/ {'parent': '755158'} 200\n",
      "69/358  https://repka.biocad.ru/api/v1/tasks/763847/ {'parent': '762370'} 200\n",
      "70/358  https://repka.biocad.ru/api/v1/tasks/756013/ {'parent': '755158'} 200\n",
      "71/358  https://repka.biocad.ru/api/v1/tasks/763968/ {'parent': '762382'} 200\n",
      "72/358  https://repka.biocad.ru/api/v1/tasks/755496/ {'parent': '750592'} 200\n",
      "73/358  https://repka.biocad.ru/api/v1/tasks/763865/ {'parent': '762370'} 200\n",
      "74/358  https://repka.biocad.ru/api/v1/tasks/755653/ {'parent': '750592'} 200\n",
      "75/358  https://repka.biocad.ru/api/v1/tasks/763890/ {'parent': '762370'} 200\n",
      "76/358  https://repka.biocad.ru/api/v1/tasks/763916/ {'parent': '762380'} 200\n",
      "77/358  https://repka.biocad.ru/api/v1/tasks/763785/ {'parent': '762382'} 200\n",
      "78/358  https://repka.biocad.ru/api/v1/tasks/763768/ {'parent': '762370'} 200\n",
      "79/358  https://repka.biocad.ru/api/v1/tasks/763928/ {'parent': '762380'} 200\n",
      "80/358  https://repka.biocad.ru/api/v1/tasks/755604/ {'parent': '750592'} 200\n",
      "81/358  https://repka.biocad.ru/api/v1/tasks/763945/ {'parent': '762382'} 200\n",
      "82/358  https://repka.biocad.ru/api/v1/tasks/763861/ {'parent': '762370'} 200\n",
      "83/358  https://repka.biocad.ru/api/v1/tasks/763852/ {'parent': '762370'} 200\n",
      "84/358  https://repka.biocad.ru/api/v1/tasks/755619/ {'parent': '750592'} 200\n",
      "85/358  https://repka.biocad.ru/api/v1/tasks/755239/ {'parent': '750592'} 200\n",
      "86/358  https://repka.biocad.ru/api/v1/tasks/756097/ {'parent': '755145'} 200\n",
      "87/358  https://repka.biocad.ru/api/v1/tasks/755509/ {'parent': '750592'} 200\n",
      "88/358  https://repka.biocad.ru/api/v1/tasks/756082/ {'parent': '755145'} 200\n",
      "89/358  https://repka.biocad.ru/api/v1/tasks/755706/ {'parent': '750592'} 200\n",
      "90/358  https://repka.biocad.ru/api/v1/tasks/756049/ {'parent': '755158'} 200\n",
      "91/358  https://repka.biocad.ru/api/v1/tasks/763923/ {'parent': '762380'} 200\n",
      "92/358  https://repka.biocad.ru/api/v1/tasks/756015/ {'parent': '755158'} 200\n",
      "93/358  https://repka.biocad.ru/api/v1/tasks/756007/ {'parent': '755171'} 200\n",
      "94/358  https://repka.biocad.ru/api/v1/tasks/756086/ {'parent': '755145'} 200\n",
      "95/358  https://repka.biocad.ru/api/v1/tasks/749110/ {'parent': '746859'} 200\n",
      "96/358  https://repka.biocad.ru/api/v1/tasks/749225/ {'parent': '746859'} 200\n",
      "97/358  https://repka.biocad.ru/api/v1/tasks/746063/ {'parent': '745204'} 200\n",
      "98/358  https://repka.biocad.ru/api/v1/tasks/749197/ {'parent': '746859'} 200\n",
      "99/358  https://repka.biocad.ru/api/v1/tasks/756087/ {'parent': '755145'} 200\n",
      "100/358  https://repka.biocad.ru/api/v1/tasks/746066/ {'parent': '745204'} 200\n",
      "101/358  https://repka.biocad.ru/api/v1/tasks/775523/ {'parent': '774905'} 200\n",
      "102/358  https://repka.biocad.ru/api/v1/tasks/775477/ {'parent': '774905'} 200\n",
      "103/358  https://repka.biocad.ru/api/v1/tasks/755626/ {'parent': '750592'} 200\n",
      "104/358  https://repka.biocad.ru/api/v1/tasks/749219/ {'parent': '746859'} 200\n",
      "105/358  https://repka.biocad.ru/api/v1/tasks/774376/ {'parent': '773208'} 200\n"
     ]
    },
    {
     "name": "stdout",
     "output_type": "stream",
     "text": [
      "106/358  https://repka.biocad.ru/api/v1/tasks/749190/ {'parent': '746859'} 200\n",
      "107/358  https://repka.biocad.ru/api/v1/tasks/741928/ {'parent': '738700'} 200\n",
      "108/358  https://repka.biocad.ru/api/v1/tasks/737063/ {'parent': '734647'} 200\n",
      "109/358  https://repka.biocad.ru/api/v1/tasks/737048/ {'parent': '734647'} 200\n",
      "110/358  https://repka.biocad.ru/api/v1/tasks/742154/ {'parent': '741295'} 200\n",
      "111/358  https://repka.biocad.ru/api/v1/tasks/741830/ {'parent': '736772'} 200\n",
      "112/358  https://repka.biocad.ru/api/v1/tasks/743077/ {'parent': '742850'} 200\n",
      "113/358  https://repka.biocad.ru/api/v1/tasks/737053/ {'parent': '734647'} 200\n",
      "114/358  https://repka.biocad.ru/api/v1/tasks/743065/ {'parent': '742850'} 200\n",
      "115/358  https://repka.biocad.ru/api/v1/tasks/741935/ {'parent': '738700'} 200\n",
      "116/358  https://repka.biocad.ru/api/v1/tasks/749194/ {'parent': '746859'} 200\n",
      "117/358  https://repka.biocad.ru/api/v1/tasks/742029/ {'parent': '738712'} 200\n",
      "118/358  https://repka.biocad.ru/api/v1/tasks/763908/ {'parent': '762380'} 200\n",
      "119/358  https://repka.biocad.ru/api/v1/tasks/742010/ {'parent': '738700'} 200\n",
      "120/358  https://repka.biocad.ru/api/v1/tasks/742102/ {'parent': '738712'} 200\n",
      "121/358  https://repka.biocad.ru/api/v1/tasks/737067/ {'parent': '734647'} 200\n",
      "122/358  https://repka.biocad.ru/api/v1/tasks/743082/ {'parent': '742850'} 200\n",
      "123/358  https://repka.biocad.ru/api/v1/tasks/742073/ {'parent': '738712'} 200\n",
      "124/358  https://repka.biocad.ru/api/v1/tasks/741824/ {'parent': '736772'} 200\n",
      "125/358  https://repka.biocad.ru/api/v1/tasks/741839/ {'parent': '736772'} 200\n",
      "126/358  https://repka.biocad.ru/api/v1/tasks/741938/ {'parent': '738700'} 200\n",
      "127/358  https://repka.biocad.ru/api/v1/tasks/742121/ {'parent': '741295'} 200\n",
      "128/358  https://repka.biocad.ru/api/v1/tasks/737046/ {'parent': '734647'} 200\n",
      "129/358  https://repka.biocad.ru/api/v1/tasks/743061/ {'parent': '742850'} 200\n",
      "130/358  https://repka.biocad.ru/api/v1/tasks/742124/ {'parent': '741295'} 200\n",
      "131/358  https://repka.biocad.ru/api/v1/tasks/737043/ {'parent': '734647'} 200\n",
      "132/358  https://repka.biocad.ru/api/v1/tasks/741960/ {'parent': '738700'} 200\n",
      "133/358  https://repka.biocad.ru/api/v1/tasks/742007/ {'parent': '738700'} 200\n",
      "134/358  https://repka.biocad.ru/api/v1/tasks/741957/ {'parent': '738700'} 200\n",
      "135/358  https://repka.biocad.ru/api/v1/tasks/743039/ {'parent': '742850'} 200\n",
      "136/358  https://repka.biocad.ru/api/v1/tasks/749161/ {'parent': '746859'} 200\n",
      "137/358  https://repka.biocad.ru/api/v1/tasks/742087/ {'parent': '738712'} 200\n",
      "138/358  https://repka.biocad.ru/api/v1/tasks/742205/ {'parent': '741295'} 200\n",
      "139/358  https://repka.biocad.ru/api/v1/tasks/741941/ {'parent': '738700'} 200\n",
      "140/358  https://repka.biocad.ru/api/v1/tasks/741981/ {'parent': '738700'} 200\n",
      "141/358  https://repka.biocad.ru/api/v1/tasks/727822/ {'parent': '725996'} 200\n",
      "142/358  https://repka.biocad.ru/api/v1/tasks/727827/ {'parent': '725996'} 200\n",
      "143/358  https://repka.biocad.ru/api/v1/tasks/727821/ {'parent': '725996'} 200\n",
      "144/358  https://repka.biocad.ru/api/v1/tasks/727661/ {'parent': '719903'} 200\n",
      "145/358  https://repka.biocad.ru/api/v1/tasks/727655/ {'parent': '719903'} 200\n",
      "146/358  https://repka.biocad.ru/api/v1/tasks/735876/ {'parent': '731954'} 200\n",
      "147/358  https://repka.biocad.ru/api/v1/tasks/735877/ {'parent': '731954'} 200\n",
      "148/358  https://repka.biocad.ru/api/v1/tasks/728180/ {'parent': '728149'} 200\n",
      "149/358  https://repka.biocad.ru/api/v1/tasks/727651/ {'parent': '719903'} 200\n",
      "150/358  https://repka.biocad.ru/api/v1/tasks/735904/ {'parent': '734647'} 200\n",
      "151/358  https://repka.biocad.ru/api/v1/tasks/727742/ {'parent': '719928'} 200\n",
      "152/358  https://repka.biocad.ru/api/v1/tasks/727736/ {'parent': '719928'} 200\n",
      "153/358  https://repka.biocad.ru/api/v1/tasks/734054/ {'parent': '728150'} 200\n",
      "154/358  https://repka.biocad.ru/api/v1/tasks/735872/ {'parent': '731954'} 200\n",
      "155/358  https://repka.biocad.ru/api/v1/tasks/727735/ {'parent': '719928'} 200\n",
      "156/358  https://repka.biocad.ru/api/v1/tasks/735855/ {'parent': '731954'} 200\n",
      "157/358  https://repka.biocad.ru/api/v1/tasks/736746/ {'parent': '731954'} 200\n",
      "158/358  https://repka.biocad.ru/api/v1/tasks/727740/ {'parent': '719928'} 200\n",
      "159/358  https://repka.biocad.ru/api/v1/tasks/733845/ {'parent': '728150'} 200\n",
      "160/358  https://repka.biocad.ru/api/v1/tasks/734065/ {'parent': '728150'} 200\n",
      "161/358  https://repka.biocad.ru/api/v1/tasks/742126/ {'parent': '741295'} 200\n",
      "162/358  https://repka.biocad.ru/api/v1/tasks/734039/ {'parent': '728150'} 200\n",
      "163/358  https://repka.biocad.ru/api/v1/tasks/728179/ {'parent': '728149'} 200\n",
      "164/358  https://repka.biocad.ru/api/v1/tasks/728178/ {'parent': '728149'} 200\n",
      "165/358  https://repka.biocad.ru/api/v1/tasks/727737/ {'parent': '719928'} 200\n",
      "166/358  https://repka.biocad.ru/api/v1/tasks/735900/ {'parent': '734647'} 200\n",
      "167/358  https://repka.biocad.ru/api/v1/tasks/727648/ {'parent': '719903'} 200\n",
      "168/358  https://repka.biocad.ru/api/v1/tasks/727653/ {'parent': '719903'} 200\n",
      "169/358  https://repka.biocad.ru/api/v1/tasks/734035/ {'parent': '728150'} 200\n",
      "170/358  https://repka.biocad.ru/api/v1/tasks/727744/ {'parent': '719928'} 200\n",
      "171/358  https://repka.biocad.ru/api/v1/tasks/728181/ {'parent': '728149'} 200\n",
      "172/358  https://repka.biocad.ru/api/v1/tasks/728182/ {'parent': '728149'} 200\n",
      "173/358  https://repka.biocad.ru/api/v1/tasks/727825/ {'parent': '725996'} 200\n",
      "174/358  https://repka.biocad.ru/api/v1/tasks/727658/ {'parent': '719903'} 200\n",
      "175/358  https://repka.biocad.ru/api/v1/tasks/727802/ {'parent': '725996'} 200\n",
      "176/358  https://repka.biocad.ru/api/v1/tasks/727818/ {'parent': '725996'} 200\n",
      "177/358  https://repka.biocad.ru/api/v1/tasks/727656/ {'parent': '719903'} 200\n",
      "178/358  https://repka.biocad.ru/api/v1/tasks/727649/ {'parent': '719903'} 200\n",
      "179/358  https://repka.biocad.ru/api/v1/tasks/727647/ {'parent': '719903'} 200\n",
      "180/358  https://repka.biocad.ru/api/v1/tasks/727741/ {'parent': '719928'} 200\n",
      "181/358  https://repka.biocad.ru/api/v1/tasks/727807/ {'parent': '725996'} 200\n",
      "182/358  https://repka.biocad.ru/api/v1/tasks/727743/ {'parent': '719928'} 200\n",
      "183/358  https://repka.biocad.ru/api/v1/tasks/727826/ {'parent': '725996'} 200\n",
      "184/358  https://repka.biocad.ru/api/v1/tasks/727739/ {'parent': '719928'} 200\n",
      "185/358  https://repka.biocad.ru/api/v1/tasks/714614/ {'parent': '713785'} 200\n",
      "186/358  https://repka.biocad.ru/api/v1/tasks/742075/ {'parent': '738712'} 200\n",
      "187/358  https://repka.biocad.ru/api/v1/tasks/714627/ {'parent': '713785'} 200\n",
      "188/358  https://repka.biocad.ru/api/v1/tasks/714657/ {'parent': '713785'} 200\n",
      "189/358  https://repka.biocad.ru/api/v1/tasks/714729/ {'parent': '713785'} 200\n",
      "190/358  https://repka.biocad.ru/api/v1/tasks/714700/ {'parent': '713785'} 200\n",
      "191/358  https://repka.biocad.ru/api/v1/tasks/734320/ {'parent': '728150'} 200\n",
      "192/358  https://repka.biocad.ru/api/v1/tasks/714713/ {'parent': '713785'} 200\n",
      "193/358  https://repka.biocad.ru/api/v1/tasks/714744/ {'parent': '713794'} 200\n",
      "194/358  https://repka.biocad.ru/api/v1/tasks/734093/ {'parent': '728150'} 200\n",
      "195/358  https://repka.biocad.ru/api/v1/tasks/714693/ {'parent': '713785'} 200\n",
      "196/358  https://repka.biocad.ru/api/v1/tasks/714731/ {'parent': '713785'} 200\n",
      "197/358  https://repka.biocad.ru/api/v1/tasks/775043/ {'parent': '773219'} 200\n",
      "198/358  https://repka.biocad.ru/api/v1/tasks/714750/ {'parent': '713794'} 200\n",
      "199/358  https://repka.biocad.ru/api/v1/tasks/708798/ {'parent': '708592'} 200\n",
      "200/358  https://repka.biocad.ru/api/v1/tasks/707816/ {'parent': '707639'} 200\n",
      "201/358  https://repka.biocad.ru/api/v1/tasks/706544/ {'parent': '704418'} 200\n",
      "202/358  https://repka.biocad.ru/api/v1/tasks/706621/ {'parent': '704418'} 200\n",
      "203/358  https://repka.biocad.ru/api/v1/tasks/707835/ {'parent': '707639'} 200\n",
      "204/358  https://repka.biocad.ru/api/v1/tasks/706348/ {'parent': '704413'} 200\n",
      "205/358  https://repka.biocad.ru/api/v1/tasks/706612/ {'parent': '704418'} 200\n",
      "206/358  https://repka.biocad.ru/api/v1/tasks/706625/ {'parent': '704418'} 200\n",
      "207/358  https://repka.biocad.ru/api/v1/tasks/706354/ {'parent': '704413'} 200\n",
      "208/358  https://repka.biocad.ru/api/v1/tasks/706140/ {'parent': '704413'} 200\n",
      "209/358  https://repka.biocad.ru/api/v1/tasks/741840/ {'parent': '736772'} 200\n"
     ]
    },
    {
     "name": "stdout",
     "output_type": "stream",
     "text": [
      "210/358  https://repka.biocad.ru/api/v1/tasks/706610/ {'parent': '704418'} 200\n",
      "211/358  https://repka.biocad.ru/api/v1/tasks/756053/ {'parent': '755158'} 200\n",
      "212/358  https://repka.biocad.ru/api/v1/tasks/707839/ {'parent': '707639'} 200\n",
      "213/358  https://repka.biocad.ru/api/v1/tasks/741833/ {'parent': '736772'} 200\n",
      "214/358  https://repka.biocad.ru/api/v1/tasks/742081/ {'parent': '738712'} 200\n",
      "215/358  https://repka.biocad.ru/api/v1/tasks/706351/ {'parent': '704413'} 200\n",
      "216/358  https://repka.biocad.ru/api/v1/tasks/707813/ {'parent': '707639'} 200\n",
      "217/358  https://repka.biocad.ru/api/v1/tasks/708797/ {'parent': '708592'} 200\n",
      "218/358  https://repka.biocad.ru/api/v1/tasks/708793/ {'parent': '708592'} 200\n",
      "219/358  https://repka.biocad.ru/api/v1/tasks/742050/ {'parent': '738712'} 200\n",
      "220/358  https://repka.biocad.ru/api/v1/tasks/708795/ {'parent': '708592'} 200\n",
      "221/358  https://repka.biocad.ru/api/v1/tasks/707814/ {'parent': '707639'} 200\n",
      "222/358  https://repka.biocad.ru/api/v1/tasks/706602/ {'parent': '704418'} 200\n",
      "223/358  https://repka.biocad.ru/api/v1/tasks/708799/ {'parent': '708592'} 200\n",
      "224/358  https://repka.biocad.ru/api/v1/tasks/774408/ {'parent': '773208'} 200\n",
      "225/358  https://repka.biocad.ru/api/v1/tasks/706367/ {'parent': '704418'} 200\n",
      "226/358  https://repka.biocad.ru/api/v1/tasks/705777/ {'parent': '704413'} 200\n",
      "227/358  https://repka.biocad.ru/api/v1/tasks/701223/ {'parent': '699085'} 200\n",
      "228/358  https://repka.biocad.ru/api/v1/tasks/674350/ {'parent': '674067'} 200\n",
      "229/358  https://repka.biocad.ru/api/v1/tasks/701424/ {'parent': '699536'} 200\n",
      "230/358  https://repka.biocad.ru/api/v1/tasks/701214/ {'parent': '699085'} 200\n",
      "231/358  https://repka.biocad.ru/api/v1/tasks/674352/ {'parent': '674067'} 200\n",
      "232/358  https://repka.biocad.ru/api/v1/tasks/701392/ {'parent': '699536'} 200\n",
      "233/358  https://repka.biocad.ru/api/v1/tasks/701437/ {'parent': '699536'} 200\n",
      "234/358  https://repka.biocad.ru/api/v1/tasks/701364/ {'parent': '699536'} 200\n",
      "235/358  https://repka.biocad.ru/api/v1/tasks/701410/ {'parent': '699536'} 200\n",
      "236/358  https://repka.biocad.ru/api/v1/tasks/674348/ {'parent': '674067'} 200\n",
      "237/358  https://repka.biocad.ru/api/v1/tasks/756101/ {'parent': '755145'} 200\n",
      "238/358  https://repka.biocad.ru/api/v1/tasks/749200/ {'parent': '746859'} 200\n",
      "239/358  https://repka.biocad.ru/api/v1/tasks/667848/ {'parent': '665880'} 200\n",
      "240/358  https://repka.biocad.ru/api/v1/tasks/586613/ {'parent': '437557'} 200\n",
      "241/358  https://repka.biocad.ru/api/v1/tasks/323085/ {'parent': '234925'} 200\n",
      "242/358  https://repka.biocad.ru/api/v1/tasks/714633/ {'parent': '713785'} 200\n",
      "243/358  https://repka.biocad.ru/api/v1/tasks/674349/ {'parent': '674067'} 200\n",
      "244/358  https://repka.biocad.ru/api/v1/tasks/746043/ {'parent': '745204'} 200\n",
      "245/358  https://repka.biocad.ru/api/v1/tasks/706374/ {'parent': '704418'} 200\n",
      "246/358  https://repka.biocad.ru/api/v1/tasks/669042/ {'parent': '666328'} 200\n",
      "247/358  https://repka.biocad.ru/api/v1/tasks/657926/ {'parent': '657348'} 200\n",
      "248/358  https://repka.biocad.ru/api/v1/tasks/662025/ {'parent': '661761'} 200\n",
      "249/358  https://repka.biocad.ru/api/v1/tasks/662019/ {'parent': '661761'} 200\n",
      "250/358  https://repka.biocad.ru/api/v1/tasks/674351/ {'parent': '674067'} 200\n",
      "251/358  https://repka.biocad.ru/api/v1/tasks/664911/ {'parent': '662017'} 200\n",
      "252/358  https://repka.biocad.ru/api/v1/tasks/661706/ {'parent': '661381'} 200\n",
      "253/358  https://repka.biocad.ru/api/v1/tasks/664909/ {'parent': '662017'} 200\n",
      "254/358  https://repka.biocad.ru/api/v1/tasks/657918/ {'parent': '657348'} 200\n",
      "255/358  https://repka.biocad.ru/api/v1/tasks/734058/ {'parent': '728150'} 200\n",
      "256/358  https://repka.biocad.ru/api/v1/tasks/667792/ {'parent': '665880'} 200\n",
      "257/358  https://repka.biocad.ru/api/v1/tasks/667724/ {'parent': '665872'} 200\n",
      "258/358  https://repka.biocad.ru/api/v1/tasks/664889/ {'parent': '662017'} 200\n",
      "259/358  https://repka.biocad.ru/api/v1/tasks/669054/ {'parent': '666567'} 200\n",
      "260/358  https://repka.biocad.ru/api/v1/tasks/669055/ {'parent': '666567'} 200\n",
      "261/358  https://repka.biocad.ru/api/v1/tasks/669047/ {'parent': '666354'} 200\n",
      "262/358  https://repka.biocad.ru/api/v1/tasks/667768/ {'parent': '665880'} 200\n",
      "263/358  https://repka.biocad.ru/api/v1/tasks/669043/ {'parent': '666328'} 200\n",
      "264/358  https://repka.biocad.ru/api/v1/tasks/746046/ {'parent': '745204'} 200\n",
      "265/358  https://repka.biocad.ru/api/v1/tasks/669051/ {'parent': '666354'} 200\n",
      "266/358  https://repka.biocad.ru/api/v1/tasks/669053/ {'parent': '666567'} 200\n",
      "267/358  https://repka.biocad.ru/api/v1/tasks/669049/ {'parent': '666354'} 200\n",
      "268/358  https://repka.biocad.ru/api/v1/tasks/663973/ {'parent': '661761'} 200\n",
      "269/358  https://repka.biocad.ru/api/v1/tasks/674285/ {'parent': '672024'} 200\n",
      "270/358  https://repka.biocad.ru/api/v1/tasks/667798/ {'parent': '665880'} 200\n",
      "271/358  https://repka.biocad.ru/api/v1/tasks/669052/ {'parent': '666567'} 200\n",
      "272/358  https://repka.biocad.ru/api/v1/tasks/674227/ {'parent': '672088'} 200\n",
      "273/358  https://repka.biocad.ru/api/v1/tasks/674343/ {'parent': '673727'} 200\n",
      "274/358  https://repka.biocad.ru/api/v1/tasks/674218/ {'parent': '672088'} 200\n",
      "275/358  https://repka.biocad.ru/api/v1/tasks/669040/ {'parent': '666328'} 200\n",
      "276/358  https://repka.biocad.ru/api/v1/tasks/674347/ {'parent': '673727'} 200\n",
      "277/358  https://repka.biocad.ru/api/v1/tasks/678546/ {'parent': '676209'} 200\n",
      "278/358  https://repka.biocad.ru/api/v1/tasks/669056/ {'parent': '666567'} 200\n",
      "279/358  https://repka.biocad.ru/api/v1/tasks/674252/ {'parent': '672088'} 200\n",
      "280/358  https://repka.biocad.ru/api/v1/tasks/663977/ {'parent': '661761'} 200\n",
      "281/358  https://repka.biocad.ru/api/v1/tasks/669045/ {'parent': '666328'} 200\n",
      "282/358  https://repka.biocad.ru/api/v1/tasks/669041/ {'parent': '666328'} 200\n",
      "283/358  https://repka.biocad.ru/api/v1/tasks/763915/ {'parent': '762380'} 200\n",
      "284/358  https://repka.biocad.ru/api/v1/tasks/674228/ {'parent': '672088'} 200\n",
      "285/358  https://repka.biocad.ru/api/v1/tasks/679536/ {'parent': '676209'} 200\n",
      "286/358  https://repka.biocad.ru/api/v1/tasks/679521/ {'parent': '676209'} 200\n",
      "287/358  https://repka.biocad.ru/api/v1/tasks/669050/ {'parent': '666354'} 200\n",
      "288/358  https://repka.biocad.ru/api/v1/tasks/674232/ {'parent': '672088'} 200\n",
      "289/358  https://repka.biocad.ru/api/v1/tasks/681980/ {'parent': '676209'} 200\n",
      "290/358  https://repka.biocad.ru/api/v1/tasks/682124/ {'parent': '677860'} 200\n",
      "291/358  https://repka.biocad.ru/api/v1/tasks/667719/ {'parent': '665872'} 200\n",
      "292/358  https://repka.biocad.ru/api/v1/tasks/775003/ {'parent': '773219'} 200\n",
      "293/358  https://repka.biocad.ru/api/v1/tasks/674233/ {'parent': '672088'} 200\n",
      "294/358  https://repka.biocad.ru/api/v1/tasks/664892/ {'parent': '662017'} 200\n",
      "295/358  https://repka.biocad.ru/api/v1/tasks/667867/ {'parent': '665880'} 200\n",
      "296/358  https://repka.biocad.ru/api/v1/tasks/690219/ {'parent': '687139'} 200\n",
      "297/358  https://repka.biocad.ru/api/v1/tasks/689865/ {'parent': '687107'} 200\n",
      "298/358  https://repka.biocad.ru/api/v1/tasks/679523/ {'parent': '676209'} 200\n",
      "299/358  https://repka.biocad.ru/api/v1/tasks/690197/ {'parent': '687139'} 200\n",
      "300/358  https://repka.biocad.ru/api/v1/tasks/689537/ {'parent': '689292'} 200\n",
      "301/358  https://repka.biocad.ru/api/v1/tasks/689467/ {'parent': '689292'} 200\n",
      "302/358  https://repka.biocad.ru/api/v1/tasks/674345/ {'parent': '673727'} 200\n",
      "303/358  https://repka.biocad.ru/api/v1/tasks/689892/ {'parent': '687127'} 200\n",
      "304/358  https://repka.biocad.ru/api/v1/tasks/742094/ {'parent': '738712'} 200\n",
      "305/358  https://repka.biocad.ru/api/v1/tasks/679527/ {'parent': '676209'} 200\n",
      "306/358  https://repka.biocad.ru/api/v1/tasks/669044/ {'parent': '666328'} 200\n",
      "307/358  https://repka.biocad.ru/api/v1/tasks/661694/ {'parent': '661381'} 200\n",
      "308/358  https://repka.biocad.ru/api/v1/tasks/674283/ {'parent': '672024'} 200\n",
      "309/358  https://repka.biocad.ru/api/v1/tasks/689749/ {'parent': '687107'} 200\n",
      "310/358  https://repka.biocad.ru/api/v1/tasks/669048/ {'parent': '666354'} 200\n",
      "311/358  https://repka.biocad.ru/api/v1/tasks/690152/ {'parent': '687139'} 200\n",
      "312/358  https://repka.biocad.ru/api/v1/tasks/690074/ {'parent': '687127'} 200\n",
      "313/358  https://repka.biocad.ru/api/v1/tasks/690209/ {'parent': '687139'} 200\n"
     ]
    },
    {
     "name": "stdout",
     "output_type": "stream",
     "text": [
      "314/358  https://repka.biocad.ru/api/v1/tasks/690067/ {'parent': '687127'} 200\n",
      "315/358  https://repka.biocad.ru/api/v1/tasks/674346/ {'parent': '673727'} 200\n",
      "316/358  https://repka.biocad.ru/api/v1/tasks/689818/ {'parent': '687107'} 200\n",
      "317/358  https://repka.biocad.ru/api/v1/tasks/689794/ {'parent': '687107'} 200\n",
      "318/358  https://repka.biocad.ru/api/v1/tasks/689736/ {'parent': '687107'} 200\n",
      "319/358  https://repka.biocad.ru/api/v1/tasks/690110/ {'parent': '687127'} 200\n",
      "320/358  https://repka.biocad.ru/api/v1/tasks/673419/ {'parent': '672146'} 200\n",
      "321/358  https://repka.biocad.ru/api/v1/tasks/746059/ {'parent': '745204'} 200\n",
      "322/358  https://repka.biocad.ru/api/v1/tasks/674309/ {'parent': '672024'} 200\n",
      "323/358  https://repka.biocad.ru/api/v1/tasks/662003/ {'parent': '661761'} 200\n",
      "324/358  https://repka.biocad.ru/api/v1/tasks/689461/ {'parent': '689292'} 200\n",
      "325/358  https://repka.biocad.ru/api/v1/tasks/689482/ {'parent': '689292'} 200\n",
      "326/358  https://repka.biocad.ru/api/v1/tasks/667839/ {'parent': '665880'} 200\n",
      "327/358  https://repka.biocad.ru/api/v1/tasks/679531/ {'parent': '676209'} 200\n",
      "328/358  https://repka.biocad.ru/api/v1/tasks/674307/ {'parent': '672024'} 200\n",
      "329/358  https://repka.biocad.ru/api/v1/tasks/689532/ {'parent': '689292'} 200\n",
      "330/358  https://repka.biocad.ru/api/v1/tasks/689778/ {'parent': '687107'} 200\n",
      "331/358  https://repka.biocad.ru/api/v1/tasks/673362/ {'parent': '647234'} 200\n",
      "332/358  https://repka.biocad.ru/api/v1/tasks/690199/ {'parent': '687139'} 200\n",
      "333/358  https://repka.biocad.ru/api/v1/tasks/678585/ {'parent': '676209'} 200\n",
      "334/358  https://repka.biocad.ru/api/v1/tasks/674302/ {'parent': '672024'} 200\n",
      "335/358  https://repka.biocad.ru/api/v1/tasks/690115/ {'parent': '687127'} 200\n",
      "336/358  https://repka.biocad.ru/api/v1/tasks/682088/ {'parent': '677860'} 200\n",
      "337/358  https://repka.biocad.ru/api/v1/tasks/673418/ {'parent': '672146'} 200\n",
      "338/358  https://repka.biocad.ru/api/v1/tasks/690148/ {'parent': '687139'} 200\n",
      "339/358  https://repka.biocad.ru/api/v1/tasks/682148/ {'parent': '677860'} 200\n",
      "340/358  https://repka.biocad.ru/api/v1/tasks/674344/ {'parent': '673727'} 200\n",
      "341/358  https://repka.biocad.ru/api/v1/tasks/664901/ {'parent': '662017'} 200\n",
      "342/358  https://repka.biocad.ru/api/v1/tasks/690189/ {'parent': '687139'} 200\n",
      "343/358  https://repka.biocad.ru/api/v1/tasks/690126/ {'parent': '687127'} 200\n",
      "344/358  https://repka.biocad.ru/api/v1/tasks/689788/ {'parent': '687107'} 200\n",
      "345/358  https://repka.biocad.ru/api/v1/tasks/682132/ {'parent': '677860'} 200\n",
      "346/358  https://repka.biocad.ru/api/v1/tasks/690202/ {'parent': '687139'} 200\n",
      "347/358  https://repka.biocad.ru/api/v1/tasks/689829/ {'parent': '687107'} 200\n",
      "348/358  https://repka.biocad.ru/api/v1/tasks/673420/ {'parent': '672146'} 200\n",
      "349/358  https://repka.biocad.ru/api/v1/tasks/664001/ {'parent': '661761'} 200\n",
      "350/358  https://repka.biocad.ru/api/v1/tasks/682134/ {'parent': '677860'} 200\n",
      "351/358  https://repka.biocad.ru/api/v1/tasks/766924/ {'parent': '765827'} 200\n",
      "352/358  https://repka.biocad.ru/api/v1/tasks/763760/ {'parent': '762380'} 200\n",
      "353/358  https://repka.biocad.ru/api/v1/tasks/689808/ {'parent': '687107'} 200\n",
      "354/358  https://repka.biocad.ru/api/v1/tasks/690081/ {'parent': '687127'} 200\n",
      "355/358  https://repka.biocad.ru/api/v1/tasks/690062/ {'parent': '687127'} 200\n",
      "356/358  https://repka.biocad.ru/api/v1/tasks/690103/ {'parent': '687127'} 200\n",
      "357/358  https://repka.biocad.ru/api/v1/tasks/683547/ {'parent': '674067'} 200\n"
     ]
    }
   ],
   "source": [
    "#Восстановление связей родителей из csv\n",
    "tasks_restore=pd.read_csv('Tasks_Restore.csv')\n",
    "replaces = {}\n",
    "\n",
    "#Дергаем API\n",
    "for i in tqdm(range(tasks_restore.shape[0])):\n",
    "    replaces['parent']=str(tasks_restore['Parent'][i])\n",
    "    r = requests.patch('https://repka.biocad.ru/api/v1/tasks/' + str(int(tasks_restore['Task'][i])) + '/',\n",
    "                       json=replaces, headers = {'Authorization': 'Token ' + login_token, \n",
    "                                                      'Content-Type': 'application/json'})\n",
    "    print(str(i+1)+'/'+str(tasks_restore.shape[0]),' https://repka.biocad.ru/api/v1/tasks/' + str(int(tasks_restore['Task'][i])) + '/',str(replaces), \\\n",
    "          r.status_code)\n",
    " \n"
   ]
  },
  {
   "cell_type": "code",
   "execution_count": 60,
   "metadata": {},
   "outputs": [
    {
     "name": "stdout",
     "output_type": "stream",
     "text": [
      "https://repka.biocad.ru/api/v1/tasks/669042/ {'parent': ''} 200\n"
     ]
    }
   ],
   "source": [
    "\n",
    "replaces = {}\n",
    "replaces['parent']=''\n",
    "r = requests.patch('https://repka.biocad.ru/api/v1/tasks/' + str(681327) + '/',\n",
    "                       json=replaces, headers = {'Authorization': 'Token ' + login_token, \n",
    "                                                      'Content-Type': 'application/json'})\n",
    "print('https://repka.biocad.ru/api/v1/tasks/' + str(int(tasks_restore['Task'][i])) + '/',str(replaces), \\\n",
    "          r.status_code)"
   ]
  },
  {
   "cell_type": "code",
   "execution_count": 59,
   "metadata": {},
   "outputs": [
    {
     "name": "stdout",
     "output_type": "stream",
     "text": [
      "https://repka.biocad.ru/api/v1/tasks/669042/ {'status': 'IN_PROGRESS'} 200\n"
     ]
    }
   ],
   "source": [
    "\n",
    "replaces = {}\n",
    "replaces['status']=\"IN_PROGRESS\"\n",
    "r = requests.patch('https://repka.biocad.ru/api/v1/tasks/' + str(681327) + '/',\n",
    "                       json=replaces, headers = {'Authorization': 'Token ' + login_token})\n",
    "print('https://repka.biocad.ru/api/v1/tasks/' + str(int(tasks_restore['Task'][i])) + '/',str(replaces), \\\n",
    "          r.status_code)"
   ]
  },
  {
   "cell_type": "code",
   "execution_count": null,
   "metadata": {},
   "outputs": [],
   "source": []
  }
 ],
 "metadata": {
  "kernelspec": {
   "display_name": "Python 3",
   "language": "python",
   "name": "python3"
  },
  "language_info": {
   "codemirror_mode": {
    "name": "ipython",
    "version": 3
   },
   "file_extension": ".py",
   "mimetype": "text/x-python",
   "name": "python",
   "nbconvert_exporter": "python",
   "pygments_lexer": "ipython3",
   "version": "3.6.8"
  }
 },
 "nbformat": 4,
 "nbformat_minor": 2
}
