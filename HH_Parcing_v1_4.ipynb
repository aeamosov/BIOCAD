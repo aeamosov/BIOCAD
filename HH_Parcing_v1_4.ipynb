{
 "cells": [
  {
   "cell_type": "code",
   "execution_count": 80,
   "metadata": {
    "scrolled": true
   },
   "outputs": [
    {
     "data": {
      "application/javascript": [
       "IPython.notebook.execute_cells([1,2])"
      ],
      "text/plain": [
       "<IPython.core.display.Javascript object>"
      ]
     },
     "metadata": {},
     "output_type": "display_data"
    },
    {
     "data": {
      "text/html": [
       "<script>\n",
       "code_show=true; \n",
       "function code_toggle() {\n",
       " if (code_show){\n",
       " $('div.input').hide();\n",
       " } else {\n",
       " $('div.input').show();\n",
       " }\n",
       " code_show = !code_show\n",
       "} \n",
       "$( document ).ready(code_toggle);\n",
       "</script>\n",
       "<form action=\"javascript:code_toggle()\"><input type=\"submit\" value=\"Показать\\скрыть код\"></form>"
      ],
      "text/plain": [
       "<IPython.core.display.HTML object>"
      ]
     },
     "execution_count": 80,
     "metadata": {},
     "output_type": "execute_result"
    }
   ],
   "source": [
    "from IPython.display import HTML, Javascript, display,clear_output\n",
    "display(Javascript('IPython.notebook.execute_cells([1,2])')) \n",
    "HTML('''<script>\n",
    "code_show=true; \n",
    "function code_toggle() {\n",
    " if (code_show){\n",
    " $('div.input').hide();\n",
    " } else {\n",
    " $('div.input').show();\n",
    " }\n",
    " code_show = !code_show\n",
    "} \n",
    "$( document ).ready(code_toggle);\n",
    "</script>\n",
    "<form action=\"javascript:code_toggle()\"><input type=\"submit\" value=\"Показать\\скрыть код\"></form>''')\n"
   ]
  },
  {
   "cell_type": "code",
   "execution_count": 81,
   "metadata": {},
   "outputs": [],
   "source": [
    "#Библиотеки\n",
    "import numpy as np\n",
    "import requests\n",
    "from tqdm import tqdm_notebook\n",
    "import pandas as pd\n",
    "import matplotlib.pyplot as plt\n",
    "from pandas.core.common import SettingWithCopyWarning\n",
    "import warnings\n",
    "warnings.simplefilter(action=\"ignore\", category=SettingWithCopyWarning)"
   ]
  },
  {
   "cell_type": "code",
   "execution_count": 82,
   "metadata": {
    "scrolled": false
   },
   "outputs": [
    {
     "data": {
      "application/vnd.jupyter.widget-view+json": {
       "model_id": "e3a5b464848b4a0b8defa343c3c26934",
       "version_major": 2,
       "version_minor": 0
      },
      "text/plain": [
       "Button(description='Получить вакансии', style=ButtonStyle())"
      ]
     },
     "metadata": {},
     "output_type": "display_data"
    }
   ],
   "source": [
    "from ipywidgets import widgets\n",
    "\n",
    "def run_vac(ev):\n",
    "    display(Javascript('IPython.notebook.execute_cells([3,4,6,10])'))\n",
    "\n",
    "button1 = widgets.Button(description=\"Получить вакансии\")\n",
    "button1.on_click(run_vac)\n",
    "display(button1)"
   ]
  },
  {
   "cell_type": "code",
   "execution_count": null,
   "metadata": {},
   "outputs": [],
   "source": [
    "#Получить вакансии по тексту\n",
    "text=input('Что вы хотите найти в имени или описании вакансии? (через поисковый движок HH) \\n')\n",
    "target_text='https://api.hh.ru/vacancies?text='+text\n",
    "r = requests.get(target_text).json() \n",
    "p=r['pages'] #Кол-во страниц выдачи\n",
    "vac = []\n",
    "#print('Ожидайте, поиск займет до '+str(p*2)+' секунд')\n",
    "for i in tqdm_notebook(range(0, p)):\n",
    "    vac.append(requests.get(target_text, params={'page': i, 'per_page':20}).json())\n",
    "#Выгрузка вакансий\n",
    "vac_row=[]\n",
    "for i in range(0,p):\n",
    "    l=len(vac[i]['items'])\n",
    "    for j in range (0,l):\n",
    "        vac_row.append(vac[i]['items'][j])\n",
    "df=pd.DataFrame.from_dict(vac_row, orient='columns') \n",
    "#Очистка ЗП\n",
    "df['salary_avg']=None\n",
    "df['gross']=True\n",
    "for i in range(0,len(df.salary)):\n",
    "    if df.salary[i] is not None:\n",
    "        df['gross'][i]=df['salary'][i]['gross']\n",
    "        if df.salary[i]['to'] is not None and df.salary[i]['currency']=='RUR':\n",
    "            df.salary_avg[i]=df.salary[i]['to']\n",
    "        elif df.salary[i]['from'] is not None and df.salary[i]['currency']=='RUR':\n",
    "            df.salary_avg[i]=df.salary[i]['from']\n",
    "        elif df.salary[i]['to'] is not None and df.salary[i]['currency']=='USD':\n",
    "            df.salary_avg[i]=df.salary[i]['to']*75\n",
    "        elif df.salary[i]['from'] is not None and df.salary[i]['currency']=='USD':\n",
    "            df.salary_avg[i]=df.salary[i]['from']*75\n",
    "        elif df.salary[i]['to'] is not None and df.salary[i]['currency']=='EUR':\n",
    "            df.salary_avg[i]=df.salary[i]['to']*90\n",
    "        elif df.salary[i]['from'] is not None and df.salary[i]['currency']=='EUR':\n",
    "            df.salary_avg[i]=df.salary[i]['from']*90    \n",
    "        else:\n",
    "            df.salary[i]=None\n",
    "for d in range(0,len(df.salary)):\n",
    "    if df['gross'][d]==False and df['salary_avg'][d] is not None:\n",
    "        df.salary_avg[d]=df.salary_avg[d]/0.87\n",
    "salary_clear=df.salary_avg.dropna()\n",
    "\n",
    "#Город\n",
    "for t in range (0, len(df.address)):\n",
    "    if df.area[t] is not None:\n",
    "        df.area[t]=df.area[t]['name']\n",
    "#Работодатель\n",
    "for k in range (0, len(df.employer)):\n",
    "    if df.employer[k] is not None:\n",
    "        df.employer[k]=df.employer[k]['name']\n",
    "print('Найдено вакансий:',len(df.name),'\\n')\n",
    "#Убрать все где не указана зп\n",
    "df=df.query('salary_avg>0')\n",
    "print('Вакансий с указанной зарплатой:',len(df.name))"
   ]
  },
  {
   "cell_type": "code",
   "execution_count": null,
   "metadata": {},
   "outputs": [],
   "source": [
    "\n",
    "def run_check(ev):\n",
    "    display(Javascript('IPython.notebook.execute_cells([5])'))\n",
    "\n",
    "button2 = widgets.Button(description=\"Проверить названия\")\n",
    "button2.on_click(run_check)\n",
    "display(button2)"
   ]
  },
  {
   "cell_type": "code",
   "execution_count": null,
   "metadata": {},
   "outputs": [],
   "source": [
    "#Проверить названия вакансий\n",
    "print('Всего уникальных названий вакансий:',df['name'].nunique())\n",
    "print(df['name'].unique())"
   ]
  },
  {
   "cell_type": "code",
   "execution_count": null,
   "metadata": {},
   "outputs": [],
   "source": [
    "#Обнуление фильтров\n",
    "df_filtered=df\n",
    "\n",
    "def run_filter(ev):\n",
    "    display(Javascript('IPython.notebook.execute_cells([7,8,9,10])'))\n",
    "\n",
    "button3 = widgets.Button(description=\"Отфильтровать\")\n",
    "button3.on_click(run_filter)\n",
    "display(button3)"
   ]
  },
  {
   "cell_type": "code",
   "execution_count": null,
   "metadata": {},
   "outputs": [],
   "source": [
    "#Обнуление фильтров\n",
    "df_filtered=df\n",
    "#Фильтрация \"вакансия содержит х\"\n",
    "search_query_name=input(\"Введите ключевые слова, хотя бы одно из которых ОБЯЗАТЕЛЬНО ДОЛЖНО быть в имени вакансии без пробелов через разделитель | (например, Грузчик|Разнорабочий)\\nЕсли дополнительная фильтрация не нужна - введите 0\\n\")\n",
    "if not search_query_name=='0':\n",
    "    df_filtered=df[df['name'].str.contains(search_query_name,case=False)]\n",
    "#Повторно проверить названия вакансий\n",
    "print('Всего уникальных названий вакансий после фильтрации:',df_filtered['name'].nunique())\n",
    "print(df_filtered['name'].unique())"
   ]
  },
  {
   "cell_type": "code",
   "execution_count": null,
   "metadata": {},
   "outputs": [],
   "source": [
    "#Фильтрация \"вакансия НЕ содержит х\"    \n",
    "search_query_name_negative=input(\"\\n\\nВведите ключевые слова, которых НЕ ДОЛЖНО быть в имени вакансии без пробелов через разделитель | (например, Грузчик|Разнорабочий)\\nЕсли дополнительная фильтрация не нужна - введите 0\\n\")\n",
    "if not search_query_name_negative=='0':\n",
    "    df_filtered=df_filtered[~df_filtered['name'].str.contains(search_query_name_negative,case=False)] \n",
    "#Повторно проверить названия вакансий\n",
    "print('Всего уникальных названий вакансий после фильтрации:',df_filtered['name'].nunique())\n",
    "print(df_filtered['name'].unique())"
   ]
  },
  {
   "cell_type": "code",
   "execution_count": null,
   "metadata": {},
   "outputs": [],
   "source": [
    "#Фильтрация \"город содержит х\"     \n",
    "search_query_address=input(\"\\nВведите города для поиска по адресу без пробелов через разделитель | (например, Москва|Санкт-Петербург)\\nЕсли не нужно выбирать город - введите 0\\n\")\n",
    "if not search_query_address=='0':\n",
    "    df_filtered['area']=df_filtered['area'].fillna('-')\n",
    "    df_filtered=df_filtered[df_filtered['area'].str.contains(search_query_address,case=False)]\n",
    "\n",
    "#Печать результатов    \n",
    "df_filtered=df_filtered.reset_index(drop=True)\n",
    "print('\\nНайдено вакансий после фильтрации:',len(df_filtered.name))\n",
    "df_filtered=df_filtered.sort_values(by=['salary_avg'])\n",
    "#Средняя зарплата\n",
    "perc=str(df_filtered.salary_avg.quantile([.25,.5,.75,.9]))\n",
    "print('\\nПерцентили по заработной плате(руб.): \\n')\n",
    "print(perc.split('Name')[0])\n",
    "#df_filtered.to_excel(text+'.xlsx')\n",
    "#print('Данные выгружены в файл '+text+'.xlsx')  "
   ]
  },
  {
   "cell_type": "code",
   "execution_count": null,
   "metadata": {},
   "outputs": [],
   "source": [
    "from ipywidgets import widgets\n",
    "\n",
    "def run_charts(ev):\n",
    "    display(Javascript('IPython.notebook.execute_cells([11,12,13,14])'))\n",
    "\n",
    "button4 = widgets.Button(description=\"Построить графики\")\n",
    "button4.on_click(run_charts)\n",
    "display(button4)"
   ]
  },
  {
   "cell_type": "code",
   "execution_count": null,
   "metadata": {},
   "outputs": [],
   "source": [
    "#Частотная диаграмма\n",
    "salary_list=list(df_filtered.salary_avg.dropna())\n",
    "plt.figure(figsize=(15, 6), dpi=150)\n",
    "plt.hist(salary_list, bins= 25)\n",
    "plt.grid(linestyle=':')\n",
    "plt.show()"
   ]
  },
  {
   "cell_type": "code",
   "execution_count": null,
   "metadata": {},
   "outputs": [],
   "source": [
    "#Точечная диаграмма по городам\n",
    "plt.figure(figsize=(15, 2+(df_filtered['area'].nunique()/4)), dpi=150)\n",
    "df_filtered.query('salary_avg>0 and area==area')['salary_avg']\n",
    "plt.scatter(df_filtered.query('salary_avg>0 and area==area')['salary_avg'],df_filtered.query('salary_avg>0 and area==area')['area'])\n",
    "plt.grid(linestyle=':')\n",
    "plt.show()"
   ]
  },
  {
   "cell_type": "code",
   "execution_count": null,
   "metadata": {
    "scrolled": false
   },
   "outputs": [],
   "source": [
    "#Точечная диаграмма по работодателям\n",
    "plt.figure(figsize=(15, len(df_filtered.query('salary_avg>0')['salary_avg'])/5), dpi=150)\n",
    "df_filtered.query('salary_avg>0')['salary_avg']\n",
    "df_filtered['address']=df_filtered['address'].fillna('Не указан')\n",
    "plt.scatter(df_filtered.query('salary_avg>0')['salary_avg'],df_filtered.query('salary_avg>0')['employer'])\n",
    "y_labels=df_filtered.query('salary_avg>0')['employer']\n",
    "plt.yticks(y_labels)\n",
    "plt.grid(linestyle=':')\n",
    "plt.show()"
   ]
  },
  {
   "cell_type": "code",
   "execution_count": null,
   "metadata": {
    "scrolled": false
   },
   "outputs": [],
   "source": [
    "#Точечная диаграмма по названиям позиций\n",
    "plt.figure(figsize=(15, len(df_filtered.query('salary_avg>0')['name'])/5), dpi=150)\n",
    "plt.scatter(df_filtered.query('salary_avg>0')['salary_avg'],df_filtered.query('salary_avg>0')['name'])\n",
    "y_labels=df_filtered.query('salary_avg>0')['name']\n",
    "plt.yticks(y_labels)\n",
    "plt.grid(linestyle=':')\n",
    "plt.show()"
   ]
  }
 ],
 "metadata": {
  "kernelspec": {
   "display_name": "Python 3",
   "language": "python",
   "name": "python3"
  },
  "language_info": {
   "codemirror_mode": {
    "name": "ipython",
    "version": 3
   },
   "file_extension": ".py",
   "mimetype": "text/x-python",
   "name": "python",
   "nbconvert_exporter": "python",
   "pygments_lexer": "ipython3",
   "version": "3.6.8"
  }
 },
 "nbformat": 4,
 "nbformat_minor": 2
}
